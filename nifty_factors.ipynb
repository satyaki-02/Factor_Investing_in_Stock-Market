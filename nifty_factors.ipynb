{
 "cells": [
  {
   "cell_type": "markdown",
   "metadata": {},
   "source": [
    "# Importing libraries\n"
   ]
  },
  {
   "cell_type": "code",
   "execution_count": null,
   "metadata": {},
   "outputs": [],
   "source": [
    "import warnings\n",
    "warnings.filterwarnings('ignore')"
   ]
  },
  {
   "cell_type": "code",
   "execution_count": null,
   "metadata": {},
   "outputs": [],
   "source": [
    "import requests"
   ]
  },
  {
   "cell_type": "code",
   "execution_count": null,
   "metadata": {},
   "outputs": [],
   "source": [
    "import helper"
   ]
  },
  {
   "cell_type": "code",
   "execution_count": null,
   "metadata": {},
   "outputs": [],
   "source": [
    "import factors\n",
    "from factors import *"
   ]
  },
  {
   "cell_type": "code",
   "execution_count": null,
   "metadata": {},
   "outputs": [],
   "source": [
    "import importlib\n",
    "importlib.reload(helper)\n",
    "importlib.reload(factors)"
   ]
  },
  {
   "cell_type": "markdown",
   "metadata": {},
   "source": [
    "# Data Collection and cleaning"
   ]
  },
  {
   "cell_type": "code",
   "execution_count": null,
   "metadata": {},
   "outputs": [],
   "source": [
    "# basic variables\n",
    "\n",
    "start_date = '2000-01-01'\n",
    "end_date = '2023-12-31' \n",
    "date_range = pd.date_range(start=start_date, end=end_date, freq='D')"
   ]
  },
  {
   "cell_type": "code",
   "execution_count": null,
   "metadata": {},
   "outputs": [],
   "source": [
    "nse_tickers = pd.read_csv(\"C:/Users/satya/Downloads/ind_nifty500list (1).csv\")['Symbol']\n",
    "nse_tickers = nse_tickers.to_list()\n",
    "for count in range(len(nse_tickers)):\n",
    "    nse_tickers[count] = nse_tickers[count] + \".NS\"\n",
    "nse_tickers"
   ]
  },
  {
   "cell_type": "code",
   "execution_count": null,
   "metadata": {},
   "outputs": [],
   "source": [
    "price_data = yf.download(nse_tickers , start_date, end_date)\n",
    "price_data = price_data['Adj Close']\n",
    "price_data = price_data.dropna(axis=1, how='all')"
   ]
  },
  {
   "cell_type": "code",
   "execution_count": null,
   "metadata": {},
   "outputs": [],
   "source": [
    "nse_stocks_data = clean_data(price_data, date_range)"
   ]
  },
  {
   "cell_type": "code",
   "execution_count": null,
   "metadata": {},
   "outputs": [],
   "source": [
    "symbols = list(nse_stocks_data.keys())"
   ]
  },
  {
   "cell_type": "code",
   "execution_count": null,
   "metadata": {},
   "outputs": [],
   "source": [
    "period = 'W'\n",
    "time = 'training'"
   ]
  },
  {
   "cell_type": "markdown",
   "metadata": {},
   "source": [
    "# Calculations"
   ]
  },
  {
   "cell_type": "code",
   "execution_count": null,
   "metadata": {},
   "outputs": [],
   "source": [
    "returns_df = calculate_returns(nse_stocks_data, rebalance=period)"
   ]
  },
  {
   "cell_type": "code",
   "execution_count": null,
   "metadata": {},
   "outputs": [],
   "source": [
    "returns_df"
   ]
  },
  {
   "cell_type": "code",
   "execution_count": null,
   "metadata": {},
   "outputs": [],
   "source": [
    "if time == 'training':\n",
    "    returns_df = returns_df.loc[:, (returns_df.columns > '2005')& (returns_df.columns < '2019')]\n",
    "elif time == 'testing':\n",
    "    returns_df = returns_df.loc[:,returns_df.columns > '2019']"
   ]
  },
  {
   "cell_type": "code",
   "execution_count": null,
   "metadata": {},
   "outputs": [],
   "source": [
    "'''\n",
    "A dictionary to store the return%. \n",
    "The strategy name is the key and the return-df is value\n",
    "'''\n",
    "strategy_returns_ls = {}"
   ]
  },
  {
   "cell_type": "code",
   "execution_count": null,
   "metadata": {},
   "outputs": [],
   "source": [
    "months = [12]\n",
    "pct = [50]"
   ]
  },
  {
   "cell_type": "code",
   "execution_count": null,
   "metadata": {},
   "outputs": [],
   "source": [
    "for m in months:\n",
    "    momentum = calculate_m_momentum(nse_stocks_data, m)\n",
    "     \n",
    "    for p in pct:\n",
    "        strategy = f'{m}_momentum_{p}'\n",
    "        momentum_long(nse_stocks_data, momentum, returns_df, p,  strategy= strategy, strategy_returns=strategy_returns)"
   ]
  },
  {
   "cell_type": "markdown",
   "metadata": {},
   "source": [
    "### Momentum"
   ]
  },
  {
   "cell_type": "code",
   "execution_count": null,
   "metadata": {},
   "outputs": [],
   "source": [
    "for m in months:\n",
    "    momentum = calculate_m_momentum(nse_stocks_data, m, resample=period)\n",
    "    # if time == 'training':\n",
    "    #     momentum = momentum.loc[:, (momentum.columns > '2005') & (momentum.columns < '2019')]\n",
    "    # elif time == 'testing':\n",
    "    #     momentum = momentum.loc[:,momentum.columns > '2019']\n",
    "    for p in pct:\n",
    "        strategy = f'{m}_momentum_ls_{p}'\n",
    "        momentum_long_sort(nse_stocks_data, momentum, returns_df, p, p, strategy, strategy_returns=strategy_returns_ls)\n",
    "        \n"
   ]
  },
  {
   "cell_type": "code",
   "execution_count": null,
   "metadata": {},
   "outputs": [],
   "source": [
    "strategy_returns_ls['12_momentum_ls_50'].rename({0:'12_momentum_ls_50'}, axis=1, inplace=True)"
   ]
  },
  {
   "cell_type": "markdown",
   "metadata": {},
   "source": [
    "### 12-1 momentum"
   ]
  },
  {
   "cell_type": "code",
   "execution_count": null,
   "metadata": {},
   "outputs": [],
   "source": [
    "momentum_df = calculate_12_1_momentum(nse_stocks_data, resample=period)"
   ]
  },
  {
   "cell_type": "code",
   "execution_count": null,
   "metadata": {},
   "outputs": [],
   "source": [
    "if time == 'training':\n",
    "    returns_df = returns_df.loc[:, (returns_df.columns > '2005')& (returns_df.columns < '2019')]\n",
    "elif time == 'testing':\n",
    "    momentum_df = momentum_df.loc[:, momentum_df.columns > '2019']"
   ]
  },
  {
   "cell_type": "code",
   "execution_count": null,
   "metadata": {},
   "outputs": [],
   "source": [
    "for p_top in pct:\n",
    "    momentum_12_1_ls(nse_stocks_data, momentum_df, returns_df, p_top, strategy_returns=strategy_returns_ls)"
   ]
  },
  {
   "cell_type": "code",
   "execution_count": null,
   "metadata": {},
   "outputs": [],
   "source": [
    "strategy_returns_ls['12_1_momentum_ls_50'].rename({0:'12_1_momentum_ls_50'}, axis=1, inplace=True)"
   ]
  },
  {
   "cell_type": "markdown",
   "metadata": {},
   "source": [
    "### REVERSION"
   ]
  },
  {
   "cell_type": "code",
   "execution_count": null,
   "metadata": {},
   "outputs": [],
   "source": [
    "momentum_rev = calculate_m_momentum(nse_stocks_data, 1, resample = period)"
   ]
  },
  {
   "cell_type": "code",
   "execution_count": null,
   "metadata": {},
   "outputs": [],
   "source": [
    "momentum_rev"
   ]
  },
  {
   "cell_type": "code",
   "execution_count": null,
   "metadata": {},
   "outputs": [],
   "source": [
    "if time == 'training':\n",
    "    momentum_rev = momentum_rev.loc[:, (momentum_rev.columns>'2005') & (momentum_rev.columns<'2019')]\n",
    "elif time == 'testing':\n",
    "    momentum_rev = momentum_rev.loc[:, momentum_rev.columns>'2019']"
   ]
  },
  {
   "cell_type": "code",
   "execution_count": null,
   "metadata": {},
   "outputs": [],
   "source": [
    "for p_long in pct:\n",
    "        strategy = f'Reversal_ls_{p_long}'\n",
    "        reversion_long_sort(nse_stocks_data, momentum_rev, returns_df, p_long, p_long, strategy=strategy, strategy_returns=strategy_returns_ls)\n",
    "            "
   ]
  },
  {
   "cell_type": "code",
   "execution_count": null,
   "metadata": {},
   "outputs": [],
   "source": [
    "strategy_returns_ls['Reversal_ls_50']"
   ]
  },
  {
   "cell_type": "markdown",
   "metadata": {},
   "source": [
    "### SEASONALITY"
   ]
  },
  {
   "cell_type": "markdown",
   "metadata": {},
   "source": [
    "3 years seasonality"
   ]
  },
  {
   "cell_type": "code",
   "execution_count": null,
   "metadata": {},
   "outputs": [],
   "source": [
    "strategy = f'3_yr_seasonality_2_ls'\n",
    "seasonality_ls(stocks_data=nse_stocks_data, return_df=returns_df, strategy_returns=strategy_returns_ls, rebalance=period, y=3, m = 2, n=2, strategy= strategy, )"
   ]
  },
  {
   "cell_type": "code",
   "execution_count": null,
   "metadata": {},
   "outputs": [],
   "source": [
    "(sorted(strategy_returns_ls['3_yr_seasonality_2_ls'].items()))"
   ]
  },
  {
   "cell_type": "markdown",
   "metadata": {},
   "source": [
    "5-years"
   ]
  },
  {
   "cell_type": "code",
   "execution_count": null,
   "metadata": {},
   "outputs": [],
   "source": [
    "times = [3]\n",
    "for m in times:\n",
    "    strategy = f'5_yr_seasonality_{m}_ls'\n",
    "    seasonality_ls(nse_stocks_data, returns_df, strategy_returns=strategy_returns_ls, rebalance=period, y=5, m = m, n=m, strategy= strategy, )"
   ]
  },
  {
   "cell_type": "code",
   "execution_count": null,
   "metadata": {},
   "outputs": [],
   "source": [
    "dict(sorted(strategy_returns_ls['3_yr_seasonality_2_ls'].items()))"
   ]
  },
  {
   "cell_type": "markdown",
   "metadata": {},
   "source": [
    "### VALUE"
   ]
  },
  {
   "cell_type": "code",
   "execution_count": null,
   "metadata": {},
   "outputs": [],
   "source": [
    "strategy = 'Value_15_85'\n",
    "price_strategy_ls(nse_stocks_data, returns_df, 15, 85, strategy, strategy_returns=strategy_returns_ls)"
   ]
  },
  {
   "cell_type": "code",
   "execution_count": null,
   "metadata": {},
   "outputs": [],
   "source": [
    "strategy = 'Value_25_75'\n",
    "price_strategy_ls(nse_stocks_data, returns_df, 75, 25, strategy, strategy_returns=strategy_returns_ls)"
   ]
  },
  {
   "cell_type": "code",
   "execution_count": null,
   "metadata": {},
   "outputs": [],
   "source": [
    "strategy_returns_ls['Value_15_85'] = strategy_returns_ls['Value_15_85'][strategy_returns_ls['Value_15_85'].index > '2006']"
   ]
  },
  {
   "cell_type": "code",
   "execution_count": null,
   "metadata": {},
   "outputs": [],
   "source": [
    "strategy_returns_ls['Value_15_85']"
   ]
  },
  {
   "cell_type": "markdown",
   "metadata": {},
   "source": [
    "### VOL"
   ]
  },
  {
   "cell_type": "code",
   "execution_count": null,
   "metadata": {},
   "outputs": [],
   "source": [
    "def calculate_vol(return_data, y=1):\n",
    "    volatility = return_data.T.rolling(window=52*y).std()\n",
    "    volatility = volatility * np.sqrt(52)\n",
    "    \n",
    "    return volatility.T.dropna(axis=1, how='all')"
   ]
  },
  {
   "cell_type": "code",
   "execution_count": null,
   "metadata": {},
   "outputs": [],
   "source": [
    "vol_df = calculate_vol(returns_df)\n",
    "top = top_p_percentage_stocks(vol_df, 33)\n",
    "btm = bottom_p_percentage_stocks(vol_df, 33)\n",
    "ret = portfolio_return(returns_df, top, btm)"
   ]
  },
  {
   "cell_type": "code",
   "execution_count": null,
   "metadata": {},
   "outputs": [],
   "source": [
    "strategy_returns_ls['1_year_vol_ls_33']  = pd.DataFrame.from_dict(dict(sorted(ret.items())), orient='index', columns=['1_year_vol_ls_33'])"
   ]
  },
  {
   "cell_type": "code",
   "execution_count": null,
   "metadata": {},
   "outputs": [],
   "source": [
    "vol_df = calculate_vol(returns_df)\n",
    "top = top_p_percentage_stocks(vol_df, 50)\n",
    "btm = bottom_p_percentage_stocks(vol_df, 50)\n",
    "ret = portfolio_return(returns_df, top, btm)\n",
    "strategy_returns_ls['1_year_vol_ls_50']  = pd.DataFrame.from_dict(dict(sorted(ret.items())), orient='index', columns=['1_year_vol_ls_50'])"
   ]
  },
  {
   "cell_type": "code",
   "execution_count": null,
   "metadata": {},
   "outputs": [],
   "source": [
    "strategy_returns_ls['1_year_vol_ls_50'] = strategy_returns_ls['1_year_vol_ls_50'][strategy_returns_ls['1_year_vol_ls_50'].index > '2006']"
   ]
  },
  {
   "cell_type": "code",
   "execution_count": null,
   "metadata": {},
   "outputs": [],
   "source": [
    "strategy_returns_ls['1_year_vol_ls_50']"
   ]
  },
  {
   "cell_type": "markdown",
   "metadata": {},
   "source": [
    "# METRICES"
   ]
  },
  {
   "cell_type": "code",
   "execution_count": null,
   "metadata": {},
   "outputs": [],
   "source": [
    "for key in strategy_returns_ls.keys():\n",
    "    print(calculate_overall_cagrs(strategy_returns_ls[key], period))\n",
    "    print(calculate_overall_sharpe_ratios(strategy_returns_ls[key], period))\n",
    "    print('-----------------------------------------------------------')\n",
    "#     strategy_returns_ls[key].sort_index()\n",
    "# # Join the dataframes based on their date index\n",
    "# strategies = pd.concat(strategy_returns_ls.values(), axis=1)"
   ]
  },
  {
   "cell_type": "code",
   "execution_count": null,
   "metadata": {},
   "outputs": [],
   "source": [
    "for strategy, df in strategy_returns_ls.items():\n",
    "    df.columns = [f'{strategy}_{col}' for col in df.columns]\n",
    "\n",
    "# Combine all DataFrames into a single DataFrame\n",
    "df = pd.concat(strategy_returns_ls.values(), axis=1)"
   ]
  },
  {
   "cell_type": "code",
   "execution_count": null,
   "metadata": {},
   "outputs": [],
   "source": [
    "df"
   ]
  },
  {
   "cell_type": "code",
   "execution_count": null,
   "metadata": {},
   "outputs": [],
   "source": [
    "cagrs = calculate_overall_cagrs(df, 'W')"
   ]
  },
  {
   "cell_type": "code",
   "execution_count": null,
   "metadata": {},
   "outputs": [],
   "source": [
    "sr = calculate_overall_sharpe_ratios(df, 'W')"
   ]
  },
  {
   "cell_type": "markdown",
   "metadata": {},
   "source": [
    "# Plots"
   ]
  },
  {
   "cell_type": "code",
   "execution_count": null,
   "metadata": {},
   "outputs": [],
   "source": [
    "import plotly.graph_objs as go\n",
    "import plotly.express as px\n",
    "\n",
    "def calculate_cumulative_returns(df):\n",
    "    cumulative_returns_df = (1 + df / 100).cumprod()\n",
    "    return cumulative_returns_df\n",
    "\n",
    "def plot_strategy_performance(strategy_df):\n",
    "    # Ensure the index is a datetime index\n",
    "    strategy_df.index = pd.to_datetime(strategy_df.index)\n",
    "    \n",
    "    # Calculate cumulative returns\n",
    "    cumulative_returns_df = calculate_cumulative_returns(strategy_df)\n",
    "    \n",
    "    # Create the plot\n",
    "    fig = go.Figure()\n",
    "\n",
    "    # Add traces for each strategy\n",
    "    for strategy in cumulative_returns_df.columns:\n",
    "        fig.add_trace(go.Scatter(\n",
    "            x=cumulative_returns_df.index,\n",
    "            y=cumulative_returns_df[strategy],\n",
    "            mode='lines',\n",
    "            name=strategy\n",
    "        ))\n",
    "    \n",
    "    # Add titles and labels\n",
    "    fig.update_layout(\n",
    "        title='Cumulative Returns of Strategies',\n",
    "        xaxis_title='Date',\n",
    "        yaxis_title='Cumulative Return',\n",
    "        legend_title='Strategies'\n",
    "    )\n",
    "\n",
    "    # Show the plot\n",
    "    fig.show()\n",
    "\n",
    "plot_strategy_performance(df)\n"
   ]
  },
  {
   "cell_type": "code",
   "execution_count": null,
   "metadata": {},
   "outputs": [],
   "source": [
    "import matplotlib.pyplot as plt\n",
    "import pandas as pd\n",
    "\n",
    "def calculate_cumulative_returns(df):\n",
    "    \"\"\"Calculate cumulative returns from percentage returns.\"\"\"\n",
    "    cumulative_returns_df = (1 + df / 100).cumprod()\n",
    "    return cumulative_returns_df\n",
    "\n",
    "def plot_strategy_performance(strategy_df):\n",
    "    # Ensure the index is a datetime index\n",
    "    strategy_df.index = pd.to_datetime(strategy_df.index)\n",
    "    \n",
    "    # Sort the DataFrame by the index (dates)\n",
    "    strategy_df = strategy_df.sort_index()\n",
    "    \n",
    "    # Calculate cumulative returns\n",
    "    cumulative_returns_df = calculate_cumulative_returns(strategy_df)\n",
    "    \n",
    "    # Plot each strategy individually\n",
    "    for strategy in cumulative_returns_df.columns:\n",
    "        plt.figure(figsize=(12, 8))\n",
    "        \n",
    "        # Plot cumulative returns\n",
    "        plt.plot(cumulative_returns_df.index, cumulative_returns_df[strategy], label=strategy)\n",
    "        \n",
    "        # Annotate the final cumulative return\n",
    "        final_return = cumulative_returns_df[strategy].iloc[-1]\n",
    "        plt.text(cumulative_returns_df.index[-1], final_return, f'{final_return:.2%}', \n",
    "                 fontsize=12, ha='left', va='center')\n",
    "        \n",
    "        # Only show left and bottom axes\n",
    "        plt.gca().spines['top'].set_visible(False)\n",
    "        plt.gca().spines['right'].set_visible(False)\n",
    "        \n",
    "        # Set axis labels and title\n",
    "        plt.xlabel('Date', fontsize=14)\n",
    "        plt.ylabel('Cumulative Return', fontsize=14)\n",
    "        plt.title('Cumulative Return ', fontsize=16)\n",
    "                \n",
    "        # Display the plot\n",
    "        plt.show()\n",
    "\n"
   ]
  },
  {
   "cell_type": "code",
   "execution_count": null,
   "metadata": {},
   "outputs": [],
   "source": [
    "df.fillna(0, inplace=True)"
   ]
  },
  {
   "cell_type": "code",
   "execution_count": null,
   "metadata": {},
   "outputs": [],
   "source": [
    "plot_strategy_performance(df)"
   ]
  }
 ],
 "metadata": {
  "kernelspec": {
   "display_name": "snp_env",
   "language": "python",
   "name": "python3"
  },
  "language_info": {
   "codemirror_mode": {
    "name": "ipython",
    "version": 3
   },
   "file_extension": ".py",
   "mimetype": "text/x-python",
   "name": "python",
   "nbconvert_exporter": "python",
   "pygments_lexer": "ipython3",
   "version": "3.9.11"
  }
 },
 "nbformat": 4,
 "nbformat_minor": 2
}
