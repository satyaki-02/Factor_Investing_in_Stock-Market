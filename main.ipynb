{
 "cells": [
  {
   "cell_type": "markdown",
   "metadata": {},
   "source": [
    "# UNUSED"
   ]
  },
  {
   "cell_type": "code",
   "execution_count": null,
   "metadata": {},
   "outputs": [],
   "source": []
  },
  {
   "cell_type": "code",
   "execution_count": null,
   "metadata": {},
   "outputs": [],
   "source": []
  },
  {
   "cell_type": "code",
   "execution_count": null,
   "metadata": {},
   "outputs": [],
   "source": []
  },
  {
   "cell_type": "code",
   "execution_count": null,
   "metadata": {},
   "outputs": [],
   "source": []
  },
  {
   "cell_type": "code",
   "execution_count": null,
   "metadata": {},
   "outputs": [],
   "source": []
  },
  {
   "cell_type": "code",
   "execution_count": null,
   "metadata": {},
   "outputs": [],
   "source": []
  },
  {
   "cell_type": "code",
   "execution_count": null,
   "metadata": {},
   "outputs": [],
   "source": []
  },
  {
   "cell_type": "code",
   "execution_count": null,
   "metadata": {},
   "outputs": [],
   "source": []
  },
  {
   "cell_type": "code",
   "execution_count": null,
   "metadata": {},
   "outputs": [],
   "source": []
  },
  {
   "cell_type": "code",
   "execution_count": null,
   "metadata": {},
   "outputs": [],
   "source": []
  },
  {
   "cell_type": "code",
   "execution_count": null,
   "metadata": {},
   "outputs": [],
   "source": []
  },
  {
   "cell_type": "code",
   "execution_count": null,
   "metadata": {},
   "outputs": [],
   "source": []
  },
  {
   "cell_type": "code",
   "execution_count": null,
   "metadata": {},
   "outputs": [],
   "source": []
  },
  {
   "cell_type": "markdown",
   "metadata": {},
   "source": [
    "# Importing Libraries\n"
   ]
  },
  {
   "cell_type": "code",
   "execution_count": null,
   "metadata": {},
   "outputs": [],
   "source": [
    "import warnings\n",
    "warnings.filterwarnings('ignore')"
   ]
  },
  {
   "cell_type": "code",
   "execution_count": null,
   "metadata": {},
   "outputs": [],
   "source": [
    "import helper\n",
    "from helper import *"
   ]
  },
  {
   "cell_type": "code",
   "execution_count": null,
   "metadata": {},
   "outputs": [],
   "source": [
    "import importlib\n",
    "importlib.reload(helper)\n"
   ]
  },
  {
   "cell_type": "code",
   "execution_count": null,
   "metadata": {},
   "outputs": [],
   "source": []
  },
  {
   "cell_type": "markdown",
   "metadata": {},
   "source": [
    "# Data Collection and cleaning"
   ]
  },
  {
   "cell_type": "code",
   "execution_count": null,
   "metadata": {},
   "outputs": [],
   "source": [
    "# basic variables\n",
    "\n",
    "start_date = '2000-01-01'\n",
    "end_date = '2023-12-31' \n",
    "date_range = pd.date_range(start=start_date, end=end_date, freq='D')"
   ]
  },
  {
   "cell_type": "code",
   "execution_count": null,
   "metadata": {},
   "outputs": [],
   "source": [
    "symbols = collect_tickers('US', start_date, end_date)"
   ]
  },
  {
   "cell_type": "code",
   "execution_count": null,
   "metadata": {},
   "outputs": [],
   "source": [
    "snp_stocks_data = download_data(symbols, start_date, end_date)"
   ]
  },
  {
   "cell_type": "code",
   "execution_count": null,
   "metadata": {},
   "outputs": [],
   "source": [
    "snp_stocks_data = clean_data(symbols, snp_stocks_data, date_range)\n",
    "snp_stocks_data = clean_data(symbols, snp_stocks_data, date_range)\n",
    "snp_stocks_data = clean_data(symbols, snp_stocks_data, date_range)"
   ]
  },
  {
   "cell_type": "code",
   "execution_count": null,
   "metadata": {},
   "outputs": [],
   "source": [
    "symbols = list(snp_stocks_data.keys())"
   ]
  },
  {
   "cell_type": "code",
   "execution_count": null,
   "metadata": {},
   "outputs": [],
   "source": [
    "len(symbols)"
   ]
  },
  {
   "cell_type": "code",
   "execution_count": null,
   "metadata": {},
   "outputs": [],
   "source": [
    "returns_df = calculate_return(symbols, snp_stocks_data, end_date, rebalance='W')"
   ]
  },
  {
   "cell_type": "code",
   "execution_count": null,
   "metadata": {},
   "outputs": [],
   "source": [
    "returns_df"
   ]
  },
  {
   "cell_type": "markdown",
   "metadata": {},
   "source": [
    "# Benchmark Data"
   ]
  },
  {
   "cell_type": "code",
   "execution_count": null,
   "metadata": {},
   "outputs": [],
   "source": [
    "data = benchmark_data('US', start_date, end_date)"
   ]
  },
  {
   "cell_type": "code",
   "execution_count": null,
   "metadata": {},
   "outputs": [],
   "source": [
    "price = data.resample('ME').last()"
   ]
  },
  {
   "cell_type": "code",
   "execution_count": null,
   "metadata": {},
   "outputs": [],
   "source": [
    "gains = benchmark_returns(data)\n",
    "gains.index = pd.to_datetime(gains.index, format='%Y-%m-%d')"
   ]
  },
  {
   "cell_type": "markdown",
   "metadata": {},
   "source": [
    "# Strategies"
   ]
  },
  {
   "cell_type": "code",
   "execution_count": null,
   "metadata": {},
   "outputs": [],
   "source": [
    "'''\n",
    "A dataframe to store the return%. \n",
    "The strategy name is the row name and the timestamp is column name\n",
    "'''\n",
    "strategy_returns = pd.DataFrame(columns=pd.date_range(start=start_date, end=end_date, freq='ME'))"
   ]
  },
  {
   "cell_type": "markdown",
   "metadata": {},
   "source": [
    "## Momentum strategy"
   ]
  },
  {
   "cell_type": "code",
   "execution_count": null,
   "metadata": {},
   "outputs": [],
   "source": [
    "def momentum_long(snp_stocks_data, momentum_df, returns_df, gains,p,strategy='', strategy_returns=strategy_returns):\n",
    "    # Stocks in the top p-percentile \n",
    "    top_p_momentum_stocks_dict = top_p_percentage_stocks(momentum_df, p)\n",
    "\n",
    "    # Returns from longing the top p-percentile\n",
    "    long_dict = total_return(snp_stocks_data, top_p_momentum_stocks_dict, returns_df, 20)\n",
    "    long = pd.DataFrame.from_dict(long_dict, orient='index')\n",
    "    long.rename({0:strategy}, axis='columns', inplace=True)\n",
    "    strategy_returns[strategy] = long\n",
    "    x, plot = fig_plot(long_dict, gains, f'{p}% long')\n",
    "    return x, plot\n",
    "\n",
    " # Go long on top p-percentile and sort on bottom p-percentile\n",
    "def momentum_long_sort(snp_stocks_data, momentum_df, returns_df,gains, p_long, p_sort, strategy='', strategy_returns=strategy_returns):\n",
    "    # Stocks in the top p-percentile \n",
    "    top_p_momentum_stocks_dict = top_p_percentage_stocks(momentum_df, p_long)\n",
    "\n",
    "\n",
    "    # Stocks in the bottom p-percentile\n",
    "    bottom_p_momentum_stocks_dict = bottom_p_percentage_stocks(momentum_df, p_sort)\n",
    "  \n",
    "  \n",
    "    # Retuens from longing as well as sorting at the same time\n",
    "    sort_long_dict = long_sort_return(snp_stocks_data, top_p_momentum_stocks_dict, bottom_p_momentum_stocks_dict, returns_df)\n",
    "    long = pd.DataFrame.from_dict(sort_long_dict, orient='index')\n",
    "    long.rename({0:strategy}, axis='columns')\n",
    "    strategy_returns[strategy] = long\n",
    "\n",
    "    x, plot = fig_plot(sort_long_dict, gains, f'{p_long}% long and {p_sort}% sort')\n",
    "\n",
    "    return x, plot"
   ]
  },
  {
   "cell_type": "code",
   "execution_count": null,
   "metadata": {},
   "outputs": [],
   "source": [
    "def momentum_12_1(momentum_12_1_df, p, strategy_returns=strategy_returns):\n",
    "    # Stocks from the top p-percentile\n",
    "    top_p_momentum_stocks_dict_12_1 = top_p_percentile_stocks(momentum_12_1_df, p)\n",
    "\n",
    "    # Returns from the top p-percentile\n",
    "    long_dict_12_1 = total_return(snp_stocks_data, top_p_momentum_stocks_dict_12_1, returns_df)\n",
    "    long = pd.DataFrame.from_dict(long_dict_12_1, orient='index')\n",
    "    long.rename({0:f'12_1_momentum_{p}'}, axis='columns')\n",
    "    strategy_returns[strategy] = long\n",
    "\n",
    "    x, plot = fig_plot(long_dict_12_1, gains)\n",
    "    return x, plot\n",
    "\n",
    "def momentum_12_1_ls(snp_stocks_data, momentum_12_1_df, returns_df, gains, p_top, p_bottom, strategy_returns=strategy_returns):\n",
    "    # Stocks from the top p-percentile\n",
    "    top_p_momentum_stocks_dict_12_1 = top_p_percentile_stocks(momentum_12_1_df, p_top)\n",
    "    # Stocks in the bottom p-percentile\n",
    "    bottom_p_momentum_stocks_dict_12_1 = bottom_p_percentile_stocks(momentum_12_1_df, p_bottom)\n",
    "    # Returns from longing as well as sorting at the same time\n",
    "    sort_long_dict_12_1 = long_sort_return(snp_stocks_data, top_p_momentum_stocks_dict_12_1, bottom_p_momentum_stocks_dict_12_1, returns_df)\n",
    "    long = pd.DataFrame.from_dict(sort_long_dict_12_1, orient='index')\n",
    "    long.rename({0:f'12_1_momentum_ls_{p_top}_{p_bottom}'}, axis='columns')\n",
    "    strategy_returns[strategy] = long\n",
    "\n",
    "    x, plot = fig_plot(sort_long_dict_12_1, gains)\n",
    "    return x, plot"
   ]
  },
  {
   "cell_type": "code",
   "execution_count": null,
   "metadata": {},
   "outputs": [],
   "source": [
    "# Buy if price above m-month MA\n",
    "def momentum_abv_ma(snp_stocks_data, momentum_df, returns_df, gains,p, strategy_returns=strategy_returns):\n",
    "    # Stocks in the top p-percentile \n",
    "    top_p_momentum_stocks_dict = top_p_percentile_stocks(momentum_df, p)\n",
    "    momentum_6_ma = stocks_moving_average(momentum_dict=top_p_momentum_stocks_dict, m= 6 ,stock_data_dict=snp_stocks_data)\n",
    "\n",
    "    # Returns from longing the top p-percentile\n",
    "    above_ma_returns = total_return(snp_stocks_data, momentum_6_ma, returns_df)\n",
    "    long = pd.DataFrame.from_dict(above_ma_returns, orient='index')\n",
    "    long.rename({0:f'momentum_above_ma_{p}'}, axis='columns')\n",
    "    strategy_returns[strategy] = long\n",
    "\n",
    "    x, plot = fig_plot(above_ma_returns, gains, f'{p}% long')\n",
    "    return x, plot\n"
   ]
  },
  {
   "cell_type": "markdown",
   "metadata": {},
   "source": [
    "## Reversion Strategy"
   ]
  },
  {
   "cell_type": "code",
   "execution_count": null,
   "metadata": {},
   "outputs": [],
   "source": [
    "def reversion_long(snp_stocks_data, momentum, returns_df, gains, p, strategy='', strategy_returns=strategy_returns):\n",
    "    # Stocks in the top p-percentile \n",
    "    top_p_momentum_stocks_dict_inversion = top_p_percentile_stocks(momentum, p)\n",
    "\n",
    "    # Returns from longing the top p-percentile\n",
    "    long_dict_reversion = total_return(snp_stocks_data, top_p_momentum_stocks_dict_inversion, returns_df)\n",
    "    long = pd.DataFrame.from_dict(long_dict_reversion, orient='index')\n",
    "    long.rename({0:strategy}, axis='columns')\n",
    "    strategy_returns[strategy] = long\n",
    "    x, plot = fig_plot(long_dict_reversion, gains)\n",
    "    return x, plot\n",
    "\n",
    "def reversion_long_sort(snp_stocks_data, momentum, returns_df, gains, p_long, p_sort, strategy=''):\n",
    "    # Stocks in the top p-percentile \n",
    "    top_p_momentum_stocks_dict_inversion = top_p_percentile_stocks(momentum, p_long)\n",
    "\n",
    "    # Stocks in the bottom p-percentile\n",
    "    bottom_p_momentum_stocks_dict_inversion = bottom_p_percentile_stocks(momentum, p_sort)\n",
    "\n",
    "    # Retuens from longing as well as sorting at the same time\n",
    "    sort_long_dict_reversion = long_sort_return(snp_stocks_data, top_p_momentum_stocks_dict_inversion, bottom_p_momentum_stocks_dict_inversion, returns_df)\n",
    "    long = pd.DataFrame.from_dict(sort_long_dict_reversion, orient='index')\n",
    "    long.rename({0:strategy}, axis='columns')\n",
    "    strategy_returns[strategy] = long\n",
    "    x, plot = fig_plot(sort_long_dict_reversion, gains)\n",
    "    return x, plot\n"
   ]
  },
  {
   "cell_type": "markdown",
   "metadata": {},
   "source": [
    "## Value strategy"
   ]
  },
  {
   "cell_type": "code",
   "execution_count": null,
   "metadata": {},
   "outputs": [],
   "source": [
    "def price_strategy(stocks_data, returns_df, gains, p_greater, p_less, strategy='', strategy_returns=strategy_returns):\n",
    "    x = value_strategy(stocks_data, p_greater, p_less)\n",
    "    m = total_return(stocks_data, x, returns_df)\n",
    "    long = pd.DataFrame.from_dict(m, orient='index')\n",
    "    long.rename({0:strategy}, axis='columns')\n",
    "    strategy_returns[strategy] = long\n",
    "    a, plot = fig_plot(m, gains)\n",
    "    return a, plot"
   ]
  },
  {
   "cell_type": "markdown",
   "metadata": {},
   "source": [
    "## Seasonality strategy"
   ]
  },
  {
   "cell_type": "code",
   "execution_count": null,
   "metadata": {},
   "outputs": [],
   "source": [
    "# If stock changed more than p%, we buy(sell)\n",
    "def yearly_seasonality(snp_stocks_data, returns_df, gains, p, strategy1, strategy2, strategy_returns=strategy_returns):\n",
    "    long, sort = seas_prev_mth(snp_stocks_data, p)\n",
    "    long_ret = total_return(snp_stocks_data, long, returns_df)\n",
    "    long_sort_returns = long_sort_return(snp_stocks_data, long, sort, returns_df)\n",
    "    long = pd.DataFrame.from_dict(long_sort_returns, orient='index')\n",
    "    long.rename({0:strategy2}, axis='columns')\n",
    "    strategy_returns[strategy2] = long\n",
    "    long = pd.DataFrame.from_dict(long_ret, orient='index')\n",
    "    long.rename({0:strategy1}, axis='columns')\n",
    "    strategy_returns[strategy1] = long\n",
    "    x,x_plot = fig_plot(long_ret, gains)\n",
    "    y,y_plot = fig_plot(long_sort_returns, gains)\n",
    "    return x, x_plot, y, y_plot"
   ]
  },
  {
   "cell_type": "code",
   "execution_count": null,
   "metadata": {},
   "outputs": [],
   "source": [
    "def sell_may():\n",
    "    pass"
   ]
  },
  {
   "cell_type": "markdown",
   "metadata": {},
   "source": [
    "### Volatility"
   ]
  },
  {
   "cell_type": "code",
   "execution_count": null,
   "metadata": {},
   "outputs": [],
   "source": [
    "def volatility_strategy(stocks_data, returns_df, m, p, strategy):\n",
    "    vol_df = calculate_m_month_volatility(stocks_data, m)\n",
    "    top = top_p_percentage_stocks(vol_df, p)\n",
    "    long_dict_reversion = total_return(snp_stocks_data, top, returns_df)\n",
    "    long = pd.DataFrame.from_dict(long_dict_reversion, orient='index')\n",
    "    long.rename({0:strategy}, axis='columns')\n",
    "    strategy_returns[strategy] = long\n",
    "    x, plot = fig_plot(long_dict_reversion, gains)\n",
    "    return x\n",
    "\n",
    "def volatility_strategy_ls(stocks_data, returns_df, m, p, strategy):\n",
    "    vol_df = calculate_m_month_volatility(stocks_data, m)\n",
    "    top = top_p_percentage_stocks(vol_df, p)\n",
    "    btm = top_p_percentage_stocks(vol_df, p)\n",
    "    sort_long_dict_reversion = long_sort_return(snp_stocks_data, top, btm, returns_df)\n",
    "    long = pd.DataFrame.from_dict(sort_long_dict_reversion, orient='index')\n",
    "    long.rename({0:strategy}, axis='columns')\n",
    "    strategy_returns[strategy] = long\n",
    "    x, plot = fig_plot(sort_long_dict_reversion, gains)\n",
    "    return x, plot"
   ]
  },
  {
   "cell_type": "markdown",
   "metadata": {},
   "source": [
    "# Plots"
   ]
  },
  {
   "cell_type": "code",
   "execution_count": null,
   "metadata": {},
   "outputs": [],
   "source": [
    "plots = {}\n",
    "sharpe_ratios = {}\n",
    "pct = [10, 20, 30]\n",
    "months = [3, 6, 9]"
   ]
  },
  {
   "cell_type": "markdown",
   "metadata": {},
   "source": [
    "## Momentum Strategy"
   ]
  },
  {
   "cell_type": "markdown",
   "metadata": {},
   "source": [
    "### Going long only for the top p% stocks"
   ]
  },
  {
   "cell_type": "code",
   "execution_count": null,
   "metadata": {},
   "outputs": [],
   "source": [
    "for m in months:\n",
    "    print(f'{m}-month momentum')\n",
    "    momentum_data = {}\n",
    "    for symbol, data in snp_stocks_data.items():\n",
    "        momentum_data[symbol] = calculate_m_momentum(data, m)\n",
    "\n",
    "    # Convert the momentum data dictionary to a DataFrame\n",
    "    momentum = pd.DataFrame.from_dict(momentum_data, orient='index')\n",
    "    \n",
    "    \n",
    "    for p in pct:\n",
    "        strategy = f'{m}_momentum_{p}'\n",
    "        x , plot_m= momentum_long(snp_stocks_data, momentum, returns_df, gains, p, strategy= strategy)"
   ]
  },
  {
   "cell_type": "code",
   "execution_count": null,
   "metadata": {},
   "outputs": [],
   "source": []
  },
  {
   "cell_type": "markdown",
   "metadata": {},
   "source": [
    "### Going long on top p% and short on bottom p%"
   ]
  },
  {
   "cell_type": "code",
   "execution_count": null,
   "metadata": {},
   "outputs": [],
   "source": [
    "for m in months:\n",
    "    print(f'{m}-month momentum')\n",
    "    momentum_data = {}\n",
    "    for symbol, data in snp_stocks_data.items():\n",
    "        momentum_data[symbol] = calculate_m_momentum(data, m)\n",
    "\n",
    "    for p in pct:\n",
    "        strategy = f'{m}_momentum_ls_{p}'\n",
    "        x, plot_m = momentum_long_sort(snp_stocks_data, momentum, returns_df, gains, p, p, strategy)\n",
    "        plots[f'{m}-month_momentum_ls{p}'] = plot_m\n",
    "        sharpe_ratios[f'{m}-month_momentum_ls{p}'] = x\n",
    "        \n"
   ]
  },
  {
   "cell_type": "markdown",
   "metadata": {},
   "source": [
    "### 12-1 momentum strategy"
   ]
  },
  {
   "cell_type": "code",
   "execution_count": null,
   "metadata": {},
   "outputs": [],
   "source": [
    "momentum_data = {}\n",
    "for symbol, data in snp_stocks_data.items():\n",
    "    momentum_data[symbol] = calculate_12_1_momentum(data)\n",
    "\n",
    "    # Convert the momentum data dictionary to a DataFrame\n",
    "momentum_12_1_df = pd.DataFrame.from_dict(momentum_data, orient='index')\n",
    "for p in pct:\n",
    "    x, plot_m = momentum_12_1(momentum_12_1_df, p)\n",
    "    x"
   ]
  },
  {
   "cell_type": "markdown",
   "metadata": {},
   "source": [
    "### 12-1 long-sort"
   ]
  },
  {
   "cell_type": "code",
   "execution_count": null,
   "metadata": {},
   "outputs": [],
   "source": [
    "for p_top in pct:\n",
    "    x, plot_m = momentum_12_1_ls(snp_stocks_data, momentum_12_1_df, returns_df, gains, p_top, p_top)\n",
    "    x"
   ]
  },
  {
   "cell_type": "markdown",
   "metadata": {},
   "source": [
    "### Buying only if the current price is above the 6-month MA"
   ]
  },
  {
   "cell_type": "code",
   "execution_count": null,
   "metadata": {},
   "outputs": [],
   "source": [
    "# pct = [10, 20, 30]\n",
    "# for m in months:\n",
    "#     print(f'{m}-month momentum')\n",
    "#     momentum_data = {}\n",
    "#     for symbol, data in snp_stocks_data.items():\n",
    "#         momentum_data[symbol] = calculate_m_momentum(data, m)\n",
    "\n",
    "#     # Convert the momentum data dictionary to a DataFrame\n",
    "#     momentum = pd.DataFrame.from_dict(momentum_data, orient='index')\n",
    "     \n",
    "#     for p in pct:\n",
    "#         strategy = f'{m}_month momentum_abv_6ma_{p}'\n",
    "#         x, plot_m = momentum_abv_ma(snp_stocks_data, momentum, returns_df, gains, p)\n",
    "#         plots[f'{m}_month momentum_abv_6ma'] = plot_m\n",
    "#         x"
   ]
  },
  {
   "cell_type": "markdown",
   "metadata": {},
   "source": [
    "## Reversion Strategy"
   ]
  },
  {
   "cell_type": "markdown",
   "metadata": {},
   "source": [
    "#### long the bottom stocks"
   ]
  },
  {
   "cell_type": "code",
   "execution_count": null,
   "metadata": {},
   "outputs": [],
   "source": [
    "for m in range(1, 36, 60):\n",
    "    print(f'{m}-months')\n",
    "    momentum_data = {}\n",
    "    for symbol, data in snp_stocks_data.items():\n",
    "        momentum_data[symbol] = calculate_m_momentum(data, m)\n",
    "\n",
    "    # Convert the momentum data dictionary to a DataFrame\n",
    "    momentum_reversion = pd.DataFrame.from_dict(momentum_data, orient='index')\n",
    "\n",
    "    for p in pct:\n",
    "        strategy = f'{m}-reversal_{p}'\n",
    "        print(p)\n",
    "        x, plot_m = reversion_long(snp_stocks_data, momentum_reversion, returns_df, gains, p)\n",
    "        plots[f'{m}_month_reversion'] = plot_m\n",
    "        x"
   ]
  },
  {
   "cell_type": "markdown",
   "metadata": {},
   "source": [
    "#### Long on bottom stocks and short on top stocks"
   ]
  },
  {
   "cell_type": "code",
   "execution_count": null,
   "metadata": {},
   "outputs": [],
   "source": [
    "for m in range(1, 4):\n",
    "    print(f'{m}-months')\n",
    "    momentum_data = {}\n",
    "    for symbol, data in snp_stocks_data.items():\n",
    "        momentum_data[symbol] = calculate_m_momentum(data, 3)\n",
    "\n",
    "    # Convert the momentum data dictionary to a DataFrame\n",
    "    momentum_reversion = pd.DataFrame.from_dict(momentum_data, orient='index')\n",
    "\n",
    "    for p_long in pct:\n",
    "        for p_sort in pct:\n",
    "            strategy = f'{m}-reversal_ls_{p}'\n",
    "            x, plot_m = reversion_long_sort(snp_stocks_data, momentum_reversion, returns_df, gains, p_long, p_sort)\n",
    "            plots[f'{m}_month_reversion'] = plot_m\n",
    "            x"
   ]
  },
  {
   "cell_type": "markdown",
   "metadata": {},
   "source": [
    "## Seasonality"
   ]
  },
  {
   "cell_type": "markdown",
   "metadata": {},
   "source": [
    "#### Buy from November to May"
   ]
  },
  {
   "cell_type": "code",
   "execution_count": null,
   "metadata": {},
   "outputs": [],
   "source": [
    "# # Ensure both DataFrames have the same index for correct comparison\n",
    "# strategy_gains = trade_returns_seasonality.reindex(gains.index).fillna(0)\n",
    "\n",
    "# # Calculate cumulative returns\n",
    "# cumulative_benchmark_returns = (1 + gains / 100).cumprod() - 1\n",
    "# seasonality_cumulative_momentum_returns = (1 + strategy_gains['Trade Returns'] / 100).cumprod() - 1\n"
   ]
  },
  {
   "cell_type": "code",
   "execution_count": null,
   "metadata": {},
   "outputs": [],
   "source": [
    "\n",
    "# # Create a Plotly figure\n",
    "# fig = go.Figure()\n",
    "\n",
    "# # Add the cumulative benchmark returns line trace\n",
    "# fig.add_trace(\n",
    "#     go.Scatter(\n",
    "#         x=cumulative_benchmark_returns.index,\n",
    "#         y=cumulative_benchmark_returns,\n",
    "#         mode='lines',\n",
    "#         name='Cumulative Benchmark Returns'\n",
    "#     )\n",
    "# )\n",
    "\n",
    "# # Add the cumulative momentum returns line trace\n",
    "# fig.add_trace(\n",
    "#     go.Scatter(\n",
    "#         x=seasonality_cumulative_momentum_returns.index,\n",
    "#         y=seasonality_cumulative_momentum_returns,\n",
    "#         mode='lines',\n",
    "#         name='Seasonality Returns'\n",
    "#     )\n",
    "# )\n",
    "\n",
    "# # Configure the x-axis to show months when zoomed in and add range selector buttons\n",
    "# fig.update_layout(\n",
    "#     title='Cumulative Returns: Seasonality vs Benchmark from 01-01-2001',\n",
    "#     xaxis_title='Date',\n",
    "#     yaxis_title='Cumulative Return %',\n",
    "#     xaxis=dict(\n",
    "#         tickmode='auto',\n",
    "#         rangeslider=dict(\n",
    "#             visible=True\n",
    "#         ),\n",
    "#         rangeselector=dict(\n",
    "#             buttons=list([\n",
    "#                 dict(count=1, label=\"1m\", step=\"month\", stepmode=\"backward\"),\n",
    "#                 dict(count=6, label=\"6m\", step=\"month\", stepmode=\"backward\"),\n",
    "#                 dict(count=1, label=\"YTD\", step=\"year\", stepmode=\"todate\"),\n",
    "#                 dict(count=1, label=\"1y\", step=\"year\", stepmode=\"backward\"),\n",
    "#                 dict(step=\"all\")\n",
    "#             ])\n",
    "#         ),\n",
    "#         type=\"date\"\n",
    "#     ),\n",
    "# )\n",
    "\n",
    "# # Show the plot\n",
    "# fig.show()"
   ]
  },
  {
   "cell_type": "code",
   "execution_count": null,
   "metadata": {},
   "outputs": [],
   "source": [
    "# # Calculate the yearly stats\n",
    "# returns_dict = strategy_gains['Trade Returns'].to_dict()\n",
    "# yearly_stats_df = calculate_yearly_stats(returns_dict, gains)\n",
    "\n",
    "# yearly_stats_df.T"
   ]
  },
  {
   "cell_type": "markdown",
   "metadata": {},
   "source": [
    "#### Buy only if stock increased > p% last year same month"
   ]
  },
  {
   "cell_type": "code",
   "execution_count": null,
   "metadata": {},
   "outputs": [],
   "source": [
    "pct_above = [10, 15]\n",
    "seasonality={}\n",
    "\n",
    "for p in pct_above:\n",
    "    strategy1 = f'seasonality_above{p}'\n",
    "    strategy2 = f'seasonality_above{p}_ls'\n",
    "    print(p)\n",
    "    x, plot_x, y, plot_y =yearly_seasonality(snp_stocks_data,  returns_df, gains, p, strategy1, strategy2)\n",
    "    seasonality[f'{p}% buy'] = x\n",
    "    seasonality[f'{p}% buy_sell'] = y\n",
    "    seasonality[f'{p}% buy_plot'] = plot_x\n",
    "    seasonality[f'{p}% buy_sell_plot'] = plot_y\n"
   ]
  },
  {
   "cell_type": "markdown",
   "metadata": {},
   "source": [
    "## Value Strategy"
   ]
  },
  {
   "cell_type": "code",
   "execution_count": null,
   "metadata": {},
   "outputs": [],
   "source": [
    "pct= [ 25, 50, 75]\n",
    "for p in pct:\n",
    "    print(p)\n",
    "    x = price_strategy(snp_stocks_data, returns_df, gains, p)"
   ]
  },
  {
   "cell_type": "code",
   "execution_count": null,
   "metadata": {},
   "outputs": [],
   "source": []
  },
  {
   "cell_type": "markdown",
   "metadata": {},
   "source": [
    "______________________________________________________________________________________________________________________________________________________"
   ]
  },
  {
   "cell_type": "markdown",
   "metadata": {},
   "source": [
    "# Stats"
   ]
  },
  {
   "cell_type": "code",
   "execution_count": null,
   "metadata": {},
   "outputs": [],
   "source": [
    "def combine_strategy_returns(strategy_returns_dict):\n",
    "    # Create an empty list to store DataFrames\n",
    "    dfs = []\n",
    "    \n",
    "    # Iterate over the dictionary\n",
    "    for strategy, df in strategy_returns_dict.items():\n",
    "        # Rename the column to the strategy name\n",
    "        df = df.rename(columns={df.columns[0]: strategy})\n",
    "        # Append the DataFrame to the list\n",
    "        dfs.append(df)\n",
    "    \n",
    "    # Concatenate all DataFrames in the list along the columns\n",
    "    combined_df = pd.concat(dfs, axis=1)\n",
    "    \n",
    "    return combined_df"
   ]
  },
  {
   "cell_type": "code",
   "execution_count": null,
   "metadata": {},
   "outputs": [],
   "source": [
    "strategy_returns_df = combine_strategy_returns(strategy_returns)"
   ]
  },
  {
   "cell_type": "code",
   "execution_count": null,
   "metadata": {},
   "outputs": [],
   "source": [
    "y=10\n",
    "y_years_cagr(pd.DataFrame(gains), y)"
   ]
  },
  {
   "cell_type": "code",
   "execution_count": null,
   "metadata": {},
   "outputs": [],
   "source": [
    "y = 1\n",
    "sharpe_ratio_df = y_years_sharpe(strategy_returns_df, y)\n",
    "sharpe_ratio_df"
   ]
  },
  {
   "cell_type": "markdown",
   "metadata": {},
   "source": [
    "# ML"
   ]
  },
  {
   "cell_type": "markdown",
   "metadata": {},
   "source": []
  },
  {
   "cell_type": "markdown",
   "metadata": {},
   "source": [
    "# NIFTY 500"
   ]
  },
  {
   "cell_type": "code",
   "execution_count": null,
   "metadata": {},
   "outputs": [],
   "source": [
    "nse_tickers = pd.read_html('https://ournifty.com/stock-list-in-nse-fo-futures-and-options.html#:~:text=NSE%20F%26O%20Stock%20List%3A%20%20%20%20SL,%20%201000%20%2052%20more%20rows%20')[0]"
   ]
  },
  {
   "cell_type": "code",
   "execution_count": null,
   "metadata": {},
   "outputs": [],
   "source": [
    "\n",
    "nse_tickers = nse_tickers.SYMBOL.to_list()"
   ]
  },
  {
   "cell_type": "code",
   "execution_count": null,
   "metadata": {},
   "outputs": [],
   "source": [
    "len(nse_tickers)"
   ]
  },
  {
   "cell_type": "code",
   "execution_count": null,
   "metadata": {},
   "outputs": [],
   "source": [
    "for count in range(len(nse_tickers)):\n",
    "    nse_tickers[count] = nse_tickers[count] + \".NS\""
   ]
  },
  {
   "cell_type": "code",
   "execution_count": null,
   "metadata": {},
   "outputs": [],
   "source": [
    "price_data = yf.download(nse_tickers , start = '2021-01-01', end = '2021-08-25')"
   ]
  },
  {
   "cell_type": "code",
   "execution_count": null,
   "metadata": {},
   "outputs": [],
   "source": [
    "price_data"
   ]
  },
  {
   "cell_type": "code",
   "execution_count": null,
   "metadata": {},
   "outputs": [],
   "source": [
    "nse_stocks_data = {}"
   ]
  },
  {
   "cell_type": "code",
   "execution_count": null,
   "metadata": {},
   "outputs": [],
   "source": [
    "for i in symbols[:10]:\n",
    "    nse_stocks_data[i] = yf.download(i, start_date, end_date)"
   ]
  },
  {
   "cell_type": "code",
   "execution_count": null,
   "metadata": {},
   "outputs": [],
   "source": [
    "nse_stocks_data"
   ]
  },
  {
   "cell_type": "code",
   "execution_count": null,
   "metadata": {},
   "outputs": [],
   "source": []
  },
  {
   "cell_type": "code",
   "execution_count": null,
   "metadata": {},
   "outputs": [],
   "source": []
  },
  {
   "cell_type": "code",
   "execution_count": null,
   "metadata": {},
   "outputs": [],
   "source": []
  },
  {
   "cell_type": "code",
   "execution_count": null,
   "metadata": {},
   "outputs": [],
   "source": []
  },
  {
   "cell_type": "code",
   "execution_count": null,
   "metadata": {},
   "outputs": [],
   "source": []
  },
  {
   "cell_type": "markdown",
   "metadata": {},
   "source": [
    "________________________________________________________________________________________"
   ]
  },
  {
   "cell_type": "markdown",
   "metadata": {},
   "source": []
  },
  {
   "cell_type": "markdown",
   "metadata": {},
   "source": [
    "# Extras"
   ]
  },
  {
   "cell_type": "code",
   "execution_count": null,
   "metadata": {},
   "outputs": [],
   "source": []
  },
  {
   "cell_type": "code",
   "execution_count": null,
   "metadata": {},
   "outputs": [],
   "source": [
    "\n",
    "def calculate_return_signals(return_df, y):\n",
    "    # Create a dictionary to store the results\n",
    "    results_dict = {stock: {} for stock in return_df.index}\n",
    "\n",
    "    for current_date in return_df.columns:\n",
    "        for stock in return_df.index:\n",
    "            \n",
    "            signals = []\n",
    "            for i in range(1, y + 1):\n",
    "                \n",
    "                past_date = current_date - pd.DateOffset(weeks=52*i)\n",
    "                if past_date in return_df.columns:\n",
    "                    print(past_date)\n",
    "                    past_return = return_df.at[stock, past_date]\n",
    "                    signal = 1 if past_return > 0 else -1\n",
    "                    signals.append(signal)\n",
    "                    print(signal)\n",
    "\n",
    "            # Store the signals if we have y years of data\n",
    "            results_dict[stock][current_date] = signals\n",
    "\n",
    "    # Convert the results dictionary to a DataFrame\n",
    "    results_df = pd.DataFrame.from_dict(results_dict, orient='index')\n",
    "\n",
    "    return results_df"
   ]
  },
  {
   "cell_type": "code",
   "execution_count": null,
   "metadata": {},
   "outputs": [],
   "source": [
    "x = calculate_return_signals(returns_df, y=3)"
   ]
  },
  {
   "cell_type": "code",
   "execution_count": null,
   "metadata": {},
   "outputs": [],
   "source": [
    "def generate_buy_sell_signals(signals_df, m, n):\n",
    "    buy_dict = {}\n",
    "    sell_dict = {}\n",
    "\n",
    "    # Iterate through each date (timestamp)\n",
    "    for date in signals_df.columns:\n",
    "        buy_stocks = []\n",
    "        sell_stocks = []\n",
    "\n",
    "        # Iterate through each stock in the DataFrame\n",
    "        for stock in signals_df.index:\n",
    "            if signals_df.at[stock, date].count(1) >= m:\n",
    "                buy_stocks.append(stock)\n",
    "            if signals_df.at[stock, date].count(-1) >= n:\n",
    "                sell_stocks.append(stock)\n",
    "\n",
    "        # Store the lists in the dictionaries if there are any stocks to buy or sell\n",
    "        if buy_stocks:\n",
    "            buy_dict[date] = buy_stocks\n",
    "        if sell_stocks:\n",
    "            sell_dict[date] = sell_stocks\n",
    "\n",
    "    return buy_dict, sell_dict"
   ]
  },
  {
   "cell_type": "code",
   "execution_count": null,
   "metadata": {},
   "outputs": [],
   "source": [
    "buy_dict, sell_dict = generate_buy_sell_signals(x, 2, 2)"
   ]
  },
  {
   "cell_type": "code",
   "execution_count": null,
   "metadata": {},
   "outputs": [],
   "source": [
    "buy_dict"
   ]
  },
  {
   "cell_type": "code",
   "execution_count": null,
   "metadata": {},
   "outputs": [],
   "source": []
  },
  {
   "cell_type": "code",
   "execution_count": null,
   "metadata": {},
   "outputs": [],
   "source": []
  },
  {
   "cell_type": "code",
   "execution_count": null,
   "metadata": {},
   "outputs": [],
   "source": []
  },
  {
   "cell_type": "code",
   "execution_count": null,
   "metadata": {},
   "outputs": [],
   "source": [
    "import seaborn as sns\n",
    "\n",
    "import matplotlib.pyplot as plt"
   ]
  },
  {
   "cell_type": "code",
   "execution_count": null,
   "metadata": {},
   "outputs": [],
   "source": [
    "def plot_strategy_performance(combined_df, y):\n",
    "    # Calculate cumulative returns\n",
    "    cumulative_returns_df = combined_df.apply(lambda x: np.cumprod(1 + x / 100) - 1, axis=0)\n",
    "\n",
    "    # Set the plotting style\n",
    "    sns.set(style=\"whitegrid\")\n",
    "\n",
    "    # Create a plot for each strategy\n",
    "    for strategy in combined_df.columns:\n",
    "        plt.figure(figsize=(14, 7))\n",
    "        \n",
    "        # Calculate Sharpe ratio and CAGR\n",
    "        strategy_returns = combined_df[strategy].dropna()\n",
    "        sharpe_ratio = y_years_sharpe(strategy_returns, y)\n",
    "        cagr = y_years_cagr(strategy_returns, y)\n",
    "        \n",
    "        # Plot cumulative returns\n",
    "        plt.plot(cumulative_returns_df.index, cumulative_returns_df[strategy], label='Cumulative Return')\n",
    "        \n",
    "        # Add annotations\n",
    "        plt.title(f'{strategy} Performance')\n",
    "        plt.xlabel('Date')\n",
    "        plt.ylabel('Cumulative Return')\n",
    "        plt.legend(loc='best')\n",
    "        plt.figtext(0.15, 0.85, f'Sharpe Ratio (last {y} years): {sharpe_ratio:.2f}', fontsize=12)\n",
    "        plt.figtext(0.15, 0.80, f'CAGR (last {y} years): {cagr:.2f}%', fontsize=12)\n",
    "        \n",
    "        # Show the plot\n",
    "        plt.show()"
   ]
  },
  {
   "cell_type": "code",
   "execution_count": null,
   "metadata": {},
   "outputs": [],
   "source": [
    "plot_strategy_performance(strategy_returns_df, y=5)"
   ]
  },
  {
   "cell_type": "code",
   "execution_count": null,
   "metadata": {},
   "outputs": [],
   "source": [
    "pct_change()"
   ]
  },
  {
   "cell_type": "code",
   "execution_count": null,
   "metadata": {},
   "outputs": [],
   "source": [
    "\n",
    "# # Example function to generate individual traces (replace with your actual data)\n",
    "# def generate_trace(name):\n",
    "#     return go.Scatter(x=[1, 2, 3], y=[10, 11, 12], mode='lines', name=name)\n",
    "# Create a single Plotly figure\n",
    "fig = go.Figure()\n",
    "\n",
    "# Add each individual trace to the figure\n",
    "for title, trace in plots.items():\n",
    "    fig.add_trace(trace)\n",
    "\n",
    "# Update layout to adjust titles and overall layout\n",
    "fig.update_layout(\n",
    "    title_text=\"Overlay of Different Plots\",\n",
    "    xaxis_title=\"X-axis\",\n",
    "    yaxis_title=\"Y-axis\",\n",
    "    legend_title=\"Plots\",\n",
    "    height=600\n",
    ")\n",
    "\n",
    "# Show the combined plot\n",
    "fig.show()"
   ]
  },
  {
   "cell_type": "code",
   "execution_count": null,
   "metadata": {},
   "outputs": [],
   "source": []
  },
  {
   "cell_type": "markdown",
   "metadata": {},
   "source": [
    "_____________________________________________________________________________________________________________________"
   ]
  },
  {
   "cell_type": "markdown",
   "metadata": {},
   "source": [
    "# Presentation"
   ]
  },
  {
   "cell_type": "code",
   "execution_count": null,
   "metadata": {},
   "outputs": [],
   "source": [
    "import seaborn as sns\n",
    "import matplotlib.pyplot as plt"
   ]
  },
  {
   "cell_type": "code",
   "execution_count": null,
   "metadata": {},
   "outputs": [],
   "source": [
    "momentum_data = {}\n",
    "for symbol, data in snp_stocks_data.items():\n",
    "    momentum_data[symbol] = calculate_m_momentum(data, 6)\n",
    "\n",
    "# Convert the momentum data dictionary to a DataFrame\n",
    "momentums = pd.DataFrame.from_dict(momentum_data, orient='index')"
   ]
  },
  {
   "cell_type": "code",
   "execution_count": null,
   "metadata": {},
   "outputs": [],
   "source": [
    "x = top_p_percentage_stocks(momentums, 33)"
   ]
  },
  {
   "cell_type": "code",
   "execution_count": null,
   "metadata": {},
   "outputs": [],
   "source": [
    "y_mom = total_return(snp_stocks_data, x, returns_df)"
   ]
  },
  {
   "cell_type": "code",
   "execution_count": null,
   "metadata": {},
   "outputs": [],
   "source": [
    "import matplotlib.dates as mdates\n",
    "\n",
    "def plot_cumulative_returns(returns_dict, title):\n",
    "    \n",
    "    # Convert the dictionary to a DataFrame\n",
    "    df = pd.DataFrame(list(returns_dict.items()), columns=['Timestamp', 'Return'])\n",
    "\n",
    "    # Convert the Timestamp column to datetime\n",
    "    df['Timestamp'] = pd.to_datetime(df['Timestamp'])\n",
    "\n",
    "    # Sort the DataFrame by Timestamp\n",
    "    df = df.sort_values(by='Timestamp')\n",
    "\n",
    "    # Calculate the cumulative returns\n",
    "    df['Cumulative Return'] = (1 + (df['Return']/100)).cumprod() - 1\n",
    "    df['Cumulative Return'] *= 100\n",
    "\n",
    "    # Plot the cumulative returns\n",
    "    plt.figure(figsize=(10, 6))\n",
    "    plt.plot(df['Timestamp'], df['Cumulative Return'], linestyle='-', color='black', linewidth=2)\n",
    "    plt.title(title)\n",
    "    plt.xlabel('Time')\n",
    "    plt.ylabel('Cumulative Return %')\n",
    "    # Customize the axes\n",
    "    ax = plt.gca()\n",
    "    ax.spines['top'].set_color('none')\n",
    "    ax.spines['bottom'].set_color('black')\n",
    "    ax.spines['bottom'].set_linewidth(2)\n",
    "    ax.spines['left'].set_color('black')\n",
    "    ax.spines['left'].set_linewidth(2)\n",
    "    ax.spines['right'].set_color('none')\n",
    "    ax.xaxis.label.set_color('black')\n",
    "    ax.yaxis.label.set_color('black')\n",
    "    ax.tick_params(axis='x', colors='black', width=2, rotation=45) # Rotate x-axis labels by 45 degrees\n",
    "    ax.tick_params(axis='y', colors='black', width=2)\n",
    "    # Make the background transparent\n",
    "    ax.patch.set_alpha(0)\n",
    "\n",
    "    # Set x-axis limits to the first and last years in the data\n",
    "    plt.xlim(df['Timestamp'].iloc[0].replace(month=1, day=1), df['Timestamp'].iloc[-1].replace(month=12, day=31))\n",
    "    \n",
    "    # Customize the x-axis date formatter\n",
    "    ax.xaxis.set_major_locator(mdates.YearLocator())\n",
    "    ax.xaxis.set_major_formatter(mdates.DateFormatter('%Y'))\n",
    "\n",
    "    plt.show()\n"
   ]
  },
  {
   "cell_type": "code",
   "execution_count": null,
   "metadata": {},
   "outputs": [],
   "source": [
    "y_mom"
   ]
  },
  {
   "cell_type": "code",
   "execution_count": null,
   "metadata": {},
   "outputs": [],
   "source": [
    "plot_cumulative_returns(y_mom, '6-month Momentum Strategy')"
   ]
  },
  {
   "cell_type": "code",
   "execution_count": null,
   "metadata": {},
   "outputs": [],
   "source": [
    "momentum_data = {}\n",
    "for symbol, data in snp_stocks_data.items():\n",
    "    momentum_data[symbol] = calculate_12_1_momentum(data)\n",
    "   # Convert the momentum data dictionary to a DataFrame\n",
    "momentum_12_1_df = pd.DataFrame.from_dict(momentum_data, orient='index')\n"
   ]
  },
  {
   "cell_type": "code",
   "execution_count": null,
   "metadata": {},
   "outputs": [],
   "source": [
    "x = top_p_percentage_stocks(momentum_12_1_df, 10)"
   ]
  },
  {
   "cell_type": "code",
   "execution_count": null,
   "metadata": {},
   "outputs": [],
   "source": [
    "y_12 = total_return(snp_stocks_data, x, returns_df)"
   ]
  },
  {
   "cell_type": "code",
   "execution_count": null,
   "metadata": {},
   "outputs": [],
   "source": [
    "plot_cumulative_returns(y, '12-1 momentum')"
   ]
  },
  {
   "cell_type": "code",
   "execution_count": null,
   "metadata": {},
   "outputs": [],
   "source": [
    "\n",
    "for symbol, data in snp_stocks_data.items():\n",
    "    momentum_data[symbol] = calculate_m_momentum(data, 60)\n",
    "\n",
    "    # Convert the momentum data dictionary to a DataFrame\n",
    "momentum_reversion = pd.DataFrame.from_dict(momentum_data, orient='index')\n"
   ]
  },
  {
   "cell_type": "code",
   "execution_count": null,
   "metadata": {},
   "outputs": [],
   "source": [
    "x = top_p_percentage_stocks(momentum_reversion, 33)"
   ]
  },
  {
   "cell_type": "code",
   "execution_count": null,
   "metadata": {},
   "outputs": [],
   "source": [
    "y_rev = total_return(snp_stocks_data, x,returns_df)"
   ]
  },
  {
   "cell_type": "code",
   "execution_count": null,
   "metadata": {},
   "outputs": [],
   "source": [
    "plot_cumulative_returns(y_rev, '5-years momentum reversal')"
   ]
  },
  {
   "cell_type": "code",
   "execution_count": null,
   "metadata": {},
   "outputs": [],
   "source": [
    "x, s= seas_prev_mth(snp_stocks_data, 2, 10)"
   ]
  },
  {
   "cell_type": "code",
   "execution_count": null,
   "metadata": {},
   "outputs": [],
   "source": [
    "y_seas = total_return(snp_stocks_data, x, returns_df)"
   ]
  },
  {
   "cell_type": "code",
   "execution_count": null,
   "metadata": {},
   "outputs": [],
   "source": [
    "plot_cumulative_returns(y_seas, 'Stock return > 10% last year')"
   ]
  },
  {
   "cell_type": "code",
   "execution_count": null,
   "metadata": {},
   "outputs": [],
   "source": [
    "import helper\n",
    "importlib.reload(helper)"
   ]
  },
  {
   "cell_type": "code",
   "execution_count": null,
   "metadata": {},
   "outputs": [],
   "source": [
    "from helper import *"
   ]
  },
  {
   "cell_type": "code",
   "execution_count": null,
   "metadata": {},
   "outputs": [],
   "source": [
    "x = value_strategy_bw(snp_stocks_data, 25, 15)"
   ]
  },
  {
   "cell_type": "code",
   "execution_count": null,
   "metadata": {},
   "outputs": [],
   "source": [
    "y = total_return(snp_stocks_data, x, returns_df)"
   ]
  },
  {
   "cell_type": "code",
   "execution_count": null,
   "metadata": {},
   "outputs": [],
   "source": [
    "plot_cumulative_returns(y, 'Stocks in 15%-25% quantile')"
   ]
  },
  {
   "cell_type": "code",
   "execution_count": null,
   "metadata": {},
   "outputs": [],
   "source": [
    "x = calculate_m_month_volatility(snp_stocks_data)"
   ]
  },
  {
   "cell_type": "code",
   "execution_count": null,
   "metadata": {},
   "outputs": [],
   "source": [
    "y_vol = bottom_p_percentage_stocks(x.T, 30)"
   ]
  },
  {
   "cell_type": "code",
   "execution_count": null,
   "metadata": {},
   "outputs": [],
   "source": [
    "z = total_return(snp_stocks_data, y, returns_df)"
   ]
  },
  {
   "cell_type": "code",
   "execution_count": null,
   "metadata": {},
   "outputs": [],
   "source": [
    "plot_cumulative_returns(z, 'Low volatility Stocks')"
   ]
  },
  {
   "cell_type": "code",
   "execution_count": null,
   "metadata": {},
   "outputs": [],
   "source": [
    "sharpe_ratios = {}\n",
    "strategies = ['Momentum', '12-1 momentum', 'Reversion', 'Seasonality', 'Value', 'Volatility']\n"
   ]
  },
  {
   "cell_type": "code",
   "execution_count": null,
   "metadata": {},
   "outputs": [],
   "source": [
    "def cagr(data):   \n",
    "    # Calculate the cumulative product of the returns\n",
    "    end_value = 1\n",
    "    for i in range(len(data)):\n",
    "        end_value *= (1 + (data[i][1]/100))\n",
    "\n",
    "    # Calculate the number of periods\n",
    "    num_periods = len(data)\n",
    "    \n",
    "    # Calculate CAGR\n",
    "    cagr = ((end_value) ** (1 / (num_periods/12))) - 1\n",
    "    \n",
    "    \n",
    "    return cagr*100"
   ]
  },
  {
   "cell_type": "code",
   "execution_count": null,
   "metadata": {},
   "outputs": [],
   "source": [
    "def sharpe_ratio(data, risk_free_rate=0):\n",
    "    returns = np.array([x[1] for x in data])\n",
    "    mean_return = np.mean(returns)\n",
    "    std_dev = np.std(returns)\n",
    "    \n",
    "    start_date, end_date = data[0][0], data[-1][0]\n",
    "    # Calculate the number of months\n",
    "    num_months = (end_date.year - start_date.year) * 12 + end_date.month - start_date.month + 1\n",
    "    \n",
    "    # annualized_return = mean_return * 12  # Monthly return to annual return\n",
    "    annualized_std_dev = std_dev * np.sqrt(12)  # Monthly std dev to annual std dev\n",
    "    \n",
    "    sharpe_ratio = (mean_return - risk_free_rate) / annualized_std_dev\n",
    "    \n",
    "    return sharpe_ratio"
   ]
  },
  {
   "cell_type": "code",
   "execution_count": null,
   "metadata": {},
   "outputs": [],
   "source": [
    "(list(gains.items())[-m:])"
   ]
  },
  {
   "cell_type": "code",
   "execution_count": null,
   "metadata": {},
   "outputs": [],
   "source": [
    "m = 12*1\n",
    "b = cagr((list(gains.items())[-m:]))\n",
    "print(b)"
   ]
  },
  {
   "cell_type": "code",
   "execution_count": null,
   "metadata": {},
   "outputs": [],
   "source": [
    "(1.1824)**12"
   ]
  },
  {
   "cell_type": "code",
   "execution_count": null,
   "metadata": {},
   "outputs": [],
   "source": [
    "((1+(gains.tail(12)/100)).cumprod().iloc[-1])-1"
   ]
  },
  {
   "cell_type": "code",
   "execution_count": null,
   "metadata": {},
   "outputs": [],
   "source": [
    "x = pd.DataFrame(gains)"
   ]
  },
  {
   "cell_type": "code",
   "execution_count": null,
   "metadata": {},
   "outputs": [],
   "source": [
    "calculate_yearly_cagr(x).loc['2023-12-31 00:00:00', 'Adj Close']"
   ]
  },
  {
   "cell_type": "code",
   "execution_count": null,
   "metadata": {},
   "outputs": [],
   "source": [
    "price[-13]/price[-1]"
   ]
  },
  {
   "cell_type": "code",
   "execution_count": null,
   "metadata": {},
   "outputs": [],
   "source": [
    "\n",
    "\n",
    "\n",
    "\n"
   ]
  },
  {
   "cell_type": "code",
   "execution_count": null,
   "metadata": {},
   "outputs": [],
   "source": []
  },
  {
   "cell_type": "code",
   "execution_count": null,
   "metadata": {},
   "outputs": [],
   "source": [
    "sharpe_ratio_df1"
   ]
  },
  {
   "cell_type": "markdown",
   "metadata": {},
   "source": [
    "# Unit Test"
   ]
  },
  {
   "cell_type": "code",
   "execution_count": null,
   "metadata": {},
   "outputs": [],
   "source": [
    "import unittest"
   ]
  },
  {
   "cell_type": "code",
   "execution_count": null,
   "metadata": {},
   "outputs": [],
   "source": [
    "price # month end price of S&P500\n",
    "gains # monthly return% of S&P500"
   ]
  },
  {
   "cell_type": "code",
   "execution_count": null,
   "metadata": {},
   "outputs": [],
   "source": [
    "class TestNotebook(unittest.TestCase):\n",
    "    def test_cagr(self):\n",
    "        self.assertAlmostEqual(calculate_yearly_cagr(pd.DataFrame(gains)).loc['2023-12-31 00:00:00', 'Adj Close'], 24.25, 2)\n",
    "\n",
    "    def test_sharpe(self):\n",
    "        self.assertAlmostEqual(calculate_yearly_sharpe_ratio(pd.DataFrame(gains)).loc[2023, 'Adj Close'], 1.55, delta=0.05)\n",
    "\n",
    "unittest.main(argv=[''], verbosity=2, exit=False)"
   ]
  },
  {
   "cell_type": "code",
   "execution_count": null,
   "metadata": {},
   "outputs": [],
   "source": [
    "sharpe_ratio_df"
   ]
  },
  {
   "cell_type": "code",
   "execution_count": null,
   "metadata": {},
   "outputs": [],
   "source": []
  }
 ],
 "metadata": {
  "kernelspec": {
   "display_name": "Python 3",
   "language": "python",
   "name": "python3"
  },
  "language_info": {
   "codemirror_mode": {
    "name": "ipython",
    "version": 3
   },
   "file_extension": ".py",
   "mimetype": "text/x-python",
   "name": "python",
   "nbconvert_exporter": "python",
   "pygments_lexer": "ipython3",
   "version": "3.9.11"
  }
 },
 "nbformat": 4,
 "nbformat_minor": 2
}
