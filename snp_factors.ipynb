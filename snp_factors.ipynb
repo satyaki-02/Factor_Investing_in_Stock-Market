{
 "cells": [
  {
   "cell_type": "markdown",
   "metadata": {},
   "source": [
    "# Importing Libraries"
   ]
  },
  {
   "cell_type": "code",
   "execution_count": null,
   "metadata": {},
   "outputs": [],
   "source": [
    "import warnings\n",
    "warnings.filterwarnings('ignore')"
   ]
  },
  {
   "cell_type": "code",
   "execution_count": null,
   "metadata": {},
   "outputs": [],
   "source": [
    "import helper\n",
    "from helper import *"
   ]
  },
  {
   "cell_type": "code",
   "execution_count": null,
   "metadata": {},
   "outputs": [],
   "source": [
    "import factors\n",
    "from factors import *"
   ]
  },
  {
   "cell_type": "code",
   "execution_count": null,
   "metadata": {},
   "outputs": [],
   "source": [
    "import importlib\n",
    "importlib.reload(helper)\n",
    "importlib.reload(factors)"
   ]
  },
  {
   "cell_type": "markdown",
   "metadata": {},
   "source": [
    "# Data Collection and Cleaning"
   ]
  },
  {
   "cell_type": "code",
   "execution_count": null,
   "metadata": {},
   "outputs": [],
   "source": [
    "# basic variables\n",
    "\n",
    "start_date = '2000-01-01'\n",
    "end_date = '2023-12-31' \n",
    "date_range = pd.date_range(start=start_date, end=end_date, freq='D')"
   ]
  },
  {
   "cell_type": "code",
   "execution_count": null,
   "metadata": {},
   "outputs": [],
   "source": [
    "symbols = collect_tickers('US', start_date, end_date)"
   ]
  },
  {
   "cell_type": "code",
   "execution_count": null,
   "metadata": {},
   "outputs": [],
   "source": [
    "snp_symbols = [str(i) for i in symbols]"
   ]
  },
  {
   "cell_type": "code",
   "execution_count": null,
   "metadata": {},
   "outputs": [],
   "source": [
    "snp_stocks_data = download_data(snp_symbols, start_date, end_date)"
   ]
  },
  {
   "cell_type": "code",
   "execution_count": null,
   "metadata": {},
   "outputs": [],
   "source": [
    "snp_stocks_data = clean_data(snp_stocks_data, date_range)\n",
    "# snp_stocks_data = clean_data(snp_stocks_data, date_range)\n",
    "# snp_stocks_data = clean_data(snp_stocks_data, date_range)"
   ]
  },
  {
   "cell_type": "code",
   "execution_count": null,
   "metadata": {},
   "outputs": [],
   "source": [
    "symbols = list(snp_stocks_data.columns)"
   ]
  },
  {
   "cell_type": "code",
   "execution_count": null,
   "metadata": {},
   "outputs": [],
   "source": [
    "period = 'W'\n",
    "time = 'training'"
   ]
  },
  {
   "cell_type": "markdown",
   "metadata": {},
   "source": [
    "# Calculations"
   ]
  },
  {
   "cell_type": "code",
   "execution_count": null,
   "metadata": {},
   "outputs": [],
   "source": [
    "returns_df = calculate_returns(snp_stocks_data, rebalance=period)"
   ]
  },
  {
   "cell_type": "code",
   "execution_count": null,
   "metadata": {},
   "outputs": [],
   "source": [
    "# if time == 'training':\n",
    "#     returns_df = returns_df.loc[:, (returns_df.columns > '2005')& (returns_df.columns < '2019')]\n",
    "# elif time == 'testing':\n",
    "#     returns_df = returns_df.loc[:,returns_df.columns > '2019']"
   ]
  },
  {
   "cell_type": "code",
   "execution_count": null,
   "metadata": {},
   "outputs": [],
   "source": [
    "'''\n",
    "A dictionary to store the return%. \n",
    "The strategy name is the key and the return-df is value\n",
    "'''\n",
    "strategy_returns = {}\n",
    "strategy_returns_ls = {}"
   ]
  },
  {
   "cell_type": "markdown",
   "metadata": {},
   "source": [
    "## Momentum Strategy"
   ]
  },
  {
   "cell_type": "markdown",
   "metadata": {},
   "source": [
    "### Momentum Long Only"
   ]
  },
  {
   "cell_type": "code",
   "execution_count": null,
   "metadata": {},
   "outputs": [],
   "source": [
    "months = [12]\n",
    "pct = [50]"
   ]
  },
  {
   "cell_type": "code",
   "execution_count": null,
   "metadata": {},
   "outputs": [],
   "source": [
    "\n",
    "# for m in months:\n",
    "#     momentum = calculate_m_momentum(snp_stocks_data, m)\n",
    "     \n",
    "#     for p in pct:\n",
    "#         strategy = f'{m}_momentum_{p}'        \n",
    "#         momentum_long(snp_stocks_data, momentum, returns_df, p,  strategy= strategy, strategy_returns=strategy_returns)"
   ]
  },
  {
   "cell_type": "code",
   "execution_count": null,
   "metadata": {},
   "outputs": [],
   "source": [
    "for m in months:\n",
    "    momentum = calculate_m_momentum(snp_stocks_data, m, resample=period)\n",
    "    # if time == 'training':\n",
    "    #     momentum = momentum.loc[:, (momentum.columns > '2005') & (momentum.columns < '2019')]\n",
    "    # if time == 'testing':\n",
    "    #     momentum = momentum.loc[:,momentum.columns > '2019']\n",
    "    for p in pct:\n",
    "        strategy = f'{m}_momentum_ls_{p}'\n",
    "        momentum_long_sort(snp_stocks_data, momentum, returns_df, p, p, strategy, strategy_returns=strategy_returns_ls)\n",
    "        \n",
    "strategy_returns_ls['12_momentum_ls_50'].rename({0:'12_momentum_ls_50'}, axis=1, inplace=True)"
   ]
  },
  {
   "cell_type": "markdown",
   "metadata": {},
   "source": [
    "#### 12-1 momentum"
   ]
  },
  {
   "cell_type": "code",
   "execution_count": null,
   "metadata": {},
   "outputs": [],
   "source": [
    "# # Calculate 12-1 momentum for each stock\n",
    "# momentum_df = calculate_12_1_momentum(snp_stocks_data)\n",
    "# for p_top in pct:\n",
    "#     momentum_12_1(snp_stocks_data, momentum_df, returns_df, p_top, strategy_returns=strategy_returns)"
   ]
  },
  {
   "cell_type": "code",
   "execution_count": null,
   "metadata": {},
   "outputs": [],
   "source": [
    "momentum_df = calculate_12_1_momentum(snp_stocks_data, resample=period)\n",
    "# if time == 'training':\n",
    "#     returns_df = returns_df.loc[:, (returns_df.columns > '2005')& (returns_df.columns < '2019')]\n",
    "# elif time == 'testing':\n",
    "#     momentum_df = momentum_df.loc[:, momentum_df.columns > '2019']\n",
    "\n",
    "for p_top in pct:\n",
    "    momentum_12_1_ls(snp_stocks_data, momentum_df, returns_df, p_top, strategy_returns=strategy_returns_ls)\n",
    "\n",
    "strategy_returns_ls['12_1_momentum_ls_50'].rename({0:'12_1_momentum_ls_50'}, axis=1, inplace=True)"
   ]
  },
  {
   "cell_type": "markdown",
   "metadata": {},
   "source": [
    "### Reversion Strategy"
   ]
  },
  {
   "cell_type": "code",
   "execution_count": null,
   "metadata": {},
   "outputs": [],
   "source": [
    "# momentum_reversion = calculate_m_momentum(snp_stocks_data, 1)\n",
    "# for p in pct:\n",
    "#     strategy = f'{m}-reversal_{p}'\n",
    "#     reversion_long(snp_stocks_data, momentum_reversion, returns_df, p,  strategy=strategy, strategy_returns=strategy_returns)\n",
    "        "
   ]
  },
  {
   "cell_type": "code",
   "execution_count": null,
   "metadata": {},
   "outputs": [],
   "source": [
    "momentum_rev = calculate_m_momentum(snp_stocks_data, 1, resample = period)\n",
    "# if time == 'training':\n",
    "#     momentum_rev = momentum_rev.loc[:, (momentum_rev.columns>'2005') & (momentum_rev.columns<'2019')]\n",
    "# elif time == 'testing':\n",
    "#     momentum_rev = momentum_rev.loc[:, momentum_rev.columns>'2019']"
   ]
  },
  {
   "cell_type": "code",
   "execution_count": null,
   "metadata": {},
   "outputs": [],
   "source": [
    "for p in pct:\n",
    "        strategy = f'{m}-reversal_ls_{p}'\n",
    "        reversion_long_sort(snp_stocks_data, momentum_rev, returns_df, p, p, strategy=strategy, strategy_returns=strategy_returns_ls)\n",
    "            "
   ]
  },
  {
   "cell_type": "markdown",
   "metadata": {},
   "source": [
    "### Seasonality"
   ]
  },
  {
   "cell_type": "markdown",
   "metadata": {},
   "source": [
    "1-year check"
   ]
  },
  {
   "cell_type": "code",
   "execution_count": null,
   "metadata": {},
   "outputs": [],
   "source": [
    "# seasonality(snp_stocks_data, returns_df, strategy='1_yr_seasonality', strategy_returns=strategy_returns)"
   ]
  },
  {
   "cell_type": "code",
   "execution_count": null,
   "metadata": {},
   "outputs": [],
   "source": [
    "# seasonality_ls(snp_stocks_data, returns_df, strategy='1_yr_seasonality_ls', strategy_returns=strategy_returns_ls)"
   ]
  },
  {
   "cell_type": "markdown",
   "metadata": {},
   "source": [
    "3-years seasonality"
   ]
  },
  {
   "cell_type": "code",
   "execution_count": null,
   "metadata": {},
   "outputs": [],
   "source": [
    "# times = [2]\n",
    "# for m in times:\n",
    "#     strategy = f'3_yr_seasonality_{m}'\n",
    "#     seasonality(snp_stocks_data, returns_df, y=3, m = m, n=m, strategy= strategy, strategy_returns=strategy_returns)"
   ]
  },
  {
   "cell_type": "code",
   "execution_count": null,
   "metadata": {},
   "outputs": [],
   "source": [
    "strategy = f'3_yr_seasonality_2_ls'\n",
    "seasonality_ls(stocks_data=snp_stocks_data, return_df=returns_df, strategy_returns=strategy_returns_ls, rebalance=period, y=3, m = 2, n=2, strategy= strategy, )"
   ]
  },
  {
   "cell_type": "markdown",
   "metadata": {},
   "source": [
    "5-years seasonality"
   ]
  },
  {
   "cell_type": "code",
   "execution_count": null,
   "metadata": {},
   "outputs": [],
   "source": [
    "# times = [3]\n",
    "# for m in times:\n",
    "#     strategy = f'5_yr_seasonality_{m}'\n",
    "#     seasonality(snp_stocks_data, returns_df, strategy= strategy, strategy_returns=strategy_returns_ls,  y=5, m = m, n=m,)"
   ]
  },
  {
   "cell_type": "code",
   "execution_count": null,
   "metadata": {},
   "outputs": [],
   "source": [
    "times = [3]\n",
    "for m in times:\n",
    "    strategy = f'5_yr_seasonality_{m}_ls'\n",
    "    seasonality_ls(snp_stocks_data, returns_df, strategy_returns=strategy_returns_ls, rebalance=period, y=5, m = m, n=m, strategy= strategy, )"
   ]
  },
  {
   "cell_type": "markdown",
   "metadata": {},
   "source": [
    "### Value"
   ]
  },
  {
   "cell_type": "code",
   "execution_count": null,
   "metadata": {},
   "outputs": [],
   "source": [
    "# strategy = 'Value < 25'\n",
    "# price_strategy(snp_stocks_data, returns_df, 25, strategy, strategy_returns=strategy_returns)"
   ]
  },
  {
   "cell_type": "code",
   "execution_count": null,
   "metadata": {},
   "outputs": [],
   "source": [
    "strategy = 'Value_15_85'\n",
    "price_strategy_ls(snp_stocks_data, returns_df, 85, 15, strategy, strategy_returns=strategy_returns_ls)"
   ]
  },
  {
   "cell_type": "code",
   "execution_count": null,
   "metadata": {},
   "outputs": [],
   "source": [
    "strategy = 'Value_25_75'\n",
    "price_strategy_ls(snp_stocks_data, returns_df, 75, 25, strategy, strategy_returns=strategy_returns_ls)"
   ]
  },
  {
   "cell_type": "markdown",
   "metadata": {},
   "source": [
    "### Volatility"
   ]
  },
  {
   "cell_type": "code",
   "execution_count": null,
   "metadata": {},
   "outputs": [],
   "source": [
    "def calculate_vol(return_data, y=1):\n",
    "    volatility = return_data.T.rolling(window=52*y).std()\n",
    "    volatility = volatility * np.sqrt(52)\n",
    "    \n",
    "    return volatility.T.dropna(axis=1, how='all')"
   ]
  },
  {
   "cell_type": "code",
   "execution_count": null,
   "metadata": {},
   "outputs": [],
   "source": [
    "vol_df = calculate_vol(returns_df)\n",
    "top = top_p_percentage_stocks(vol_df, 33)\n",
    "btm = bottom_p_percentage_stocks(vol_df, 33)\n",
    "ret = portfolio_return(returns_df, top, btm)"
   ]
  },
  {
   "cell_type": "code",
   "execution_count": null,
   "metadata": {},
   "outputs": [],
   "source": [
    "vol_df = calculate_vol(returns_df)\n",
    "top = top_p_percentage_stocks(vol_df, 50)\n",
    "btm = bottom_p_percentage_stocks(vol_df, 50)\n",
    "ret = portfolio_return(returns_df, top, btm)\n",
    "strategy_returns_ls['1_year_vol_ls_50']  = pd.DataFrame.from_dict(dict(sorted(ret.items())), orient='index', columns=['1_year_vol_ls_50'])"
   ]
  },
  {
   "cell_type": "code",
   "execution_count": null,
   "metadata": {},
   "outputs": [],
   "source": [
    "# for p in pct:\n",
    "#     # strategy = f'1_year_vol_{p}'\n",
    "#     volatility_strategy(snp_stocks_data, returns_df, p=p, strategy=strategy, strategy_returns=strategy_returns)"
   ]
  },
  {
   "cell_type": "code",
   "execution_count": null,
   "metadata": {},
   "outputs": [],
   "source": [
    "# for p in pct:\n",
    "#     strategy = f'1_year_vol_ls_{p}'\n",
    "#     # volatility_strategy_ls(snp_stocks_data, returns_df, p=p, strategy=strategy, strategy_returns=strategy_returns_ls)"
   ]
  },
  {
   "cell_type": "code",
   "execution_count": null,
   "metadata": {},
   "outputs": [],
   "source": [
    "strategy_returns_ls['1_year_vol_ls_50'][strategy_returns_ls['1_year_vol_ls_50'].index > '2005']"
   ]
  },
  {
   "cell_type": "markdown",
   "metadata": {},
   "source": [
    "# Metrices"
   ]
  },
  {
   "cell_type": "code",
   "execution_count": null,
   "metadata": {},
   "outputs": [],
   "source": [
    "for key in strategy_returns_ls.keys():\n",
    "    print(calculate_overall_cagrs(strategy_returns_ls[key], period))\n",
    "    print(calculate_overall_sharpe_ratios(strategy_returns_ls[key], period))\n",
    "    print('-----------------------------------------------------------')"
   ]
  },
  {
   "cell_type": "code",
   "execution_count": null,
   "metadata": {},
   "outputs": [],
   "source": [
    "def combine_strategy_returns(strategy_returns_dict):\n",
    "    # Create an empty list to store DataFrames\n",
    "    dfs = []\n",
    "    \n",
    "    # Iterate over the dictionary\n",
    "    for strategy, df in strategy_returns_dict.items():\n",
    "        # Rename the column to the strategy name\n",
    "        df = df.rename(columns={df.columns[0]: strategy})\n",
    "        # Append the DataFrame to the list\n",
    "        dfs.append(df)\n",
    "    \n",
    "    # Concatenate all DataFrames in the list along the columns\n",
    "    combined_df = pd.concat(dfs, axis=1)\n",
    "    \n",
    "    return combined_df"
   ]
  },
  {
   "cell_type": "code",
   "execution_count": null,
   "metadata": {},
   "outputs": [],
   "source": [
    "for strategy, df in strategy_returns_ls.items():\n",
    "    df.columns = [f'{strategy}_{col}' for col in df.columns]\n",
    "\n",
    "# Combine all DataFrames into a single DataFrame\n",
    "df = pd.concat(strategy_returns_ls.values(), axis=1)"
   ]
  },
  {
   "cell_type": "code",
   "execution_count": null,
   "metadata": {},
   "outputs": [],
   "source": [
    "df = df[df.index > '2006']"
   ]
  },
  {
   "cell_type": "code",
   "execution_count": null,
   "metadata": {},
   "outputs": [],
   "source": [
    "cagrs = calculate_overall_cagrs(df, 'W')"
   ]
  },
  {
   "cell_type": "code",
   "execution_count": null,
   "metadata": {},
   "outputs": [],
   "source": [
    "sr = calculate_overall_sharpe_ratios(df, 'W')"
   ]
  },
  {
   "cell_type": "markdown",
   "metadata": {},
   "source": [
    "# Plots"
   ]
  },
  {
   "cell_type": "code",
   "execution_count": null,
   "metadata": {},
   "outputs": [],
   "source": [
    "import matplotlib.pyplot as plt\n",
    "import seaborn as sns\n",
    "import pandas as pd\n",
    "\n",
    "def calculate_cumulative_returns(df):\n",
    "    cumulative_returns_df = (1 + df / 100).cumprod() - 1\n",
    "    return cumulative_returns_df\n",
    "\n",
    "def plot_strategy_performance(strategy_df):\n",
    "    # Ensure the index is a datetime index\n",
    "    strategy_df.index = pd.to_datetime(strategy_df.index)\n",
    "    \n",
    "    # Calculate cumulative returns\n",
    "    cumulative_returns_df = calculate_cumulative_returns(strategy_df)\n",
    "    \n",
    "    # Set the plotting style\n",
    "    sns.set(style=\"whitegrid\")\n",
    "\n",
    "    # Create individual plots for each strategy\n",
    "    for strategy in cumulative_returns_df.columns:\n",
    "        plt.figure(figsize=(14, 7))\n",
    "        \n",
    "        # Plot cumulative returns\n",
    "        plt.plot(cumulative_returns_df.index, cumulative_returns_df[strategy], label=f'{strategy} Cumulative Return')\n",
    "        \n",
    "        # Add titles and labels\n",
    "        plt.title(f'Cumulative Returns of {strategy}')\n",
    "        plt.xlabel('Date')\n",
    "        plt.ylabel('Cumulative Return')\n",
    "        plt.legend(loc='best')\n",
    "        \n",
    "        # Show the plot\n",
    "        plt.show()\n",
    "\n",
    "plot_strategy_performance(df)\n"
   ]
  },
  {
   "cell_type": "code",
   "execution_count": null,
   "metadata": {},
   "outputs": [],
   "source": [
    "import plotly.graph_objs as go\n",
    "import plotly.express as px\n",
    "\n",
    "def calculate_cumulative_returns(df):\n",
    "    cumulative_returns_df = (1 + df / 100).cumprod()\n",
    "    return cumulative_returns_df\n",
    "\n",
    "def plot_strategy_performance(strategy_df):\n",
    "    # Ensure the index is a datetime index\n",
    "    strategy_df.index = pd.to_datetime(strategy_df.index)\n",
    "    \n",
    "    # Calculate cumulative returns\n",
    "    cumulative_returns_df = calculate_cumulative_returns(strategy_df)\n",
    "    \n",
    "    # Create the plot\n",
    "    fig = go.Figure()\n",
    "\n",
    "    # Add traces for each strategy\n",
    "    for strategy in cumulative_returns_df.columns:\n",
    "        fig.add_trace(go.Scatter(\n",
    "            x=cumulative_returns_df.index,\n",
    "            y=cumulative_returns_df[strategy],\n",
    "            mode='lines',\n",
    "            name=strategy\n",
    "        ))\n",
    "    \n",
    "    # Add titles and labels\n",
    "    fig.update_layout(\n",
    "        title='Cumulative Returns of Strategies',\n",
    "        xaxis_title='Date',\n",
    "        yaxis_title='Cumulative Return',\n",
    "        legend_title='Strategies'\n",
    "    )\n",
    "\n",
    "    # Show the plot\n",
    "    fig.show()\n",
    "\n",
    "plot_strategy_performance(df)\n"
   ]
  }
 ],
 "metadata": {
  "kernelspec": {
   "display_name": "snp_env",
   "language": "python",
   "name": "python3"
  },
  "language_info": {
   "codemirror_mode": {
    "name": "ipython",
    "version": 3
   },
   "file_extension": ".py",
   "mimetype": "text/x-python",
   "name": "python",
   "nbconvert_exporter": "python",
   "pygments_lexer": "ipython3",
   "version": "3.9.11"
  }
 },
 "nbformat": 4,
 "nbformat_minor": 2
}
