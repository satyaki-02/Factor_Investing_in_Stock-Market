{
 "cells": [
  {
   "cell_type": "markdown",
   "metadata": {},
   "source": [
    "# Importing Libraries"
   ]
  },
  {
   "cell_type": "code",
   "execution_count": 1,
   "metadata": {},
   "outputs": [],
   "source": [
    "import warnings\n",
    "warnings.filterwarnings('ignore')"
   ]
  },
  {
   "cell_type": "code",
   "execution_count": 2,
   "metadata": {},
   "outputs": [
    {
     "name": "stdout",
     "output_type": "stream",
     "text": [
      "Warning - Certain functionality \n",
      "             requires requests_html, which is not installed.\n",
      "             \n",
      "             Install using: \n",
      "             pip install requests_html\n",
      "             \n",
      "             After installation, you may have to restart your Python session.\n"
     ]
    }
   ],
   "source": [
    "import helper\n",
    "from helper import *"
   ]
  },
  {
   "cell_type": "code",
   "execution_count": 3,
   "metadata": {},
   "outputs": [],
   "source": [
    "import factors\n",
    "from factors import *"
   ]
  },
  {
   "cell_type": "code",
   "execution_count": 4,
   "metadata": {},
   "outputs": [
    {
     "data": {
      "text/plain": [
       "<module 'factors' from 'c:\\\\Users\\\\satya\\\\OneDrive\\\\Desktop\\\\Summer_Internship\\\\factors.py'>"
      ]
     },
     "execution_count": 4,
     "metadata": {},
     "output_type": "execute_result"
    }
   ],
   "source": [
    "import importlib\n",
    "importlib.reload(helper)\n",
    "importlib.reload(factors)"
   ]
  },
  {
   "cell_type": "markdown",
   "metadata": {},
   "source": [
    "# Data Collection and Cleaning"
   ]
  },
  {
   "cell_type": "code",
   "execution_count": 5,
   "metadata": {},
   "outputs": [],
   "source": [
    "# basic variables\n",
    "\n",
    "start_date = '2000-01-01'\n",
    "end_date = '2023-12-31' \n",
    "date_range = pd.date_range(start=start_date, end=end_date, freq='D')"
   ]
  },
  {
   "cell_type": "code",
   "execution_count": 6,
   "metadata": {},
   "outputs": [
    {
     "name": "stdout",
     "output_type": "stream",
     "text": [
      "Sucesfully downloaded 838 symbols.\n"
     ]
    }
   ],
   "source": [
    "symbols = collect_tickers('US', start_date, end_date)"
   ]
  },
  {
   "cell_type": "code",
   "execution_count": 7,
   "metadata": {},
   "outputs": [],
   "source": [
    "snp_symbols = [str(i) for i in symbols]"
   ]
  },
  {
   "cell_type": "code",
   "execution_count": 8,
   "metadata": {},
   "outputs": [
    {
     "name": "stderr",
     "output_type": "stream",
     "text": [
      "[                       0%%                      ]  2 of 803 completed"
     ]
    },
    {
     "name": "stdout",
     "output_type": "stream",
     "text": [
      "$WFM: possibly delisted; No price data found  (1d 2000-01-01 -> 2023-12-31)\n"
     ]
    },
    {
     "name": "stderr",
     "output_type": "stream",
     "text": [
      "[                       1%%                      ]  12 of 803 completed"
     ]
    },
    {
     "name": "stdout",
     "output_type": "stream",
     "text": [
      "$APOL: possibly delisted; No price data found  (1d 2000-01-01 -> 2023-12-31)\n"
     ]
    },
    {
     "name": "stderr",
     "output_type": "stream",
     "text": [
      "[***                    6%%                      ]  49 of 803 completed"
     ]
    },
    {
     "name": "stdout",
     "output_type": "stream",
     "text": [
      "$ACAS: possibly delisted; No price data found  (1d 2000-01-01 -> 2023-12-31)\n"
     ]
    },
    {
     "name": "stderr",
     "output_type": "stream",
     "text": [
      "[****                   8%%                      ]  66 of 803 completed"
     ]
    },
    {
     "name": "stdout",
     "output_type": "stream",
     "text": [
      "$STJ: possibly delisted; No price data found  (1d 2000-01-01 -> 2023-12-31)\n"
     ]
    },
    {
     "name": "stderr",
     "output_type": "stream",
     "text": [
      "[*****                 11%%                      ]  92 of 803 completed"
     ]
    },
    {
     "name": "stdout",
     "output_type": "stream",
     "text": [
      "$TE: possibly delisted; No price data found  (1d 2000-01-01 -> 2023-12-31)\n"
     ]
    },
    {
     "name": "stderr",
     "output_type": "stream",
     "text": [
      "[******                13%%                      ]  102 of 803 completed"
     ]
    },
    {
     "name": "stdout",
     "output_type": "stream",
     "text": [
      "$MIL: possibly delisted; No price data found  (1d 2000-01-01 -> 2023-12-31)\n"
     ]
    },
    {
     "name": "stderr",
     "output_type": "stream",
     "text": [
      "[*********             18%%                      ]  144 of 803 completed"
     ]
    },
    {
     "name": "stdout",
     "output_type": "stream",
     "text": [
      "$CFN: possibly delisted; No price data found  (1d 2000-01-01 -> 2023-12-31)\n"
     ]
    },
    {
     "name": "stderr",
     "output_type": "stream",
     "text": [
      "[**********            21%%                      ]  168 of 803 completed"
     ]
    },
    {
     "name": "stdout",
     "output_type": "stream",
     "text": [
      "$JOY: possibly delisted; No price data found  (1d 2000-01-01 -> 2023-12-31)\n"
     ]
    },
    {
     "name": "stderr",
     "output_type": "stream",
     "text": [
      "[*************         27%%                      ]  215 of 803 completed"
     ]
    },
    {
     "name": "stdout",
     "output_type": "stream",
     "text": [
      "$LO: possibly delisted; No price data found  (1d 2000-01-01 -> 2023-12-31)\n"
     ]
    },
    {
     "name": "stderr",
     "output_type": "stream",
     "text": [
      "[*************         28%%                      ]  224 of 803 completed"
     ]
    },
    {
     "name": "stdout",
     "output_type": "stream",
     "text": [
      "$SNDK: possibly delisted; No price data found  (1d 2000-01-01 -> 2023-12-31)\n"
     ]
    },
    {
     "name": "stderr",
     "output_type": "stream",
     "text": [
      "[**************        29%%                      ]  231 of 803 completed"
     ]
    },
    {
     "name": "stdout",
     "output_type": "stream",
     "text": [
      "$GMCR: possibly delisted; No price data found  (1d 2000-01-01 -> 2023-12-31)\n",
      "$JDSU: possibly delisted; No price data found  (1d 2000-01-01 -> 2023-12-31)\n"
     ]
    },
    {
     "name": "stderr",
     "output_type": "stream",
     "text": [
      "[**************        30%%                      ]  244 of 803 completed"
     ]
    },
    {
     "name": "stdout",
     "output_type": "stream",
     "text": [
      "$MJN: possibly delisted; No price data found  (1d 2000-01-01 -> 2023-12-31)\n"
     ]
    },
    {
     "name": "stderr",
     "output_type": "stream",
     "text": [
      "[***************       31%%                      ]  249 of 803 completed"
     ]
    },
    {
     "name": "stdout",
     "output_type": "stream",
     "text": [
      "$NOVL: possibly delisted; No price data found  (1d 2000-01-01 -> 2023-12-31)\n"
     ]
    },
    {
     "name": "stderr",
     "output_type": "stream",
     "text": [
      "[***************       32%%                      ]  256 of 803 completed"
     ]
    },
    {
     "name": "stdout",
     "output_type": "stream",
     "text": [
      "$RAI: possibly delisted; No price data found  (1d 2000-01-01 -> 2023-12-31)\n"
     ]
    },
    {
     "name": "stderr",
     "output_type": "stream",
     "text": [
      "[****************      33%%                      ]  264 of 803 completed"
     ]
    },
    {
     "name": "stdout",
     "output_type": "stream",
     "text": [
      "$ARG: possibly delisted; No price data found  (1d 2000-01-01 -> 2023-12-31)\n"
     ]
    },
    {
     "name": "stderr",
     "output_type": "stream",
     "text": [
      "[****************      33%%                      ]  267 of 803 completed"
     ]
    },
    {
     "name": "stdout",
     "output_type": "stream",
     "text": [
      "$TYC: possibly delisted; No price data found  (1d 2000-01-01 -> 2023-12-31)\n"
     ]
    },
    {
     "name": "stderr",
     "output_type": "stream",
     "text": [
      "[*****************     36%%                      ]  292 of 803 completed"
     ]
    },
    {
     "name": "stdout",
     "output_type": "stream",
     "text": [
      "$EK: possibly delisted; No price data found  (1d 2000-01-01 -> 2023-12-31)\n",
      "$BF.B: possibly delisted; No price data found  (1d 2000-01-01 -> 2023-12-31)\n"
     ]
    },
    {
     "name": "stderr",
     "output_type": "stream",
     "text": [
      "[******************    37%%                      ]  299 of 803 completed"
     ]
    },
    {
     "name": "stdout",
     "output_type": "stream",
     "text": [
      "$LLTC: possibly delisted; No price data found  (1d 2000-01-01 -> 2023-12-31)\n",
      "$CMCSK: possibly delisted; No price data found  (1d 2000-01-01 -> 2023-12-31)\n"
     ]
    },
    {
     "name": "stderr",
     "output_type": "stream",
     "text": [
      "[******************    37%%                      ]  300 of 803 completed"
     ]
    },
    {
     "name": "stdout",
     "output_type": "stream",
     "text": [
      "$FDO: possibly delisted; No price data found  (1d 2000-01-01 -> 2023-12-31)\n"
     ]
    },
    {
     "name": "stderr",
     "output_type": "stream",
     "text": [
      "[*******************   39%%                      ]  311 of 803 completed"
     ]
    },
    {
     "name": "stdout",
     "output_type": "stream",
     "text": [
      "$SWY: possibly delisted; No price data found  (1d 2000-01-01 -> 2023-12-31)\n"
     ]
    },
    {
     "name": "stderr",
     "output_type": "stream",
     "text": [
      "[*******************   40%%                      ]  325 of 803 completed"
     ]
    },
    {
     "name": "stdout",
     "output_type": "stream",
     "text": [
      "$NVLS: possibly delisted; No price data found  (1d 2000-01-01 -> 2023-12-31)\n"
     ]
    },
    {
     "name": "stderr",
     "output_type": "stream",
     "text": [
      "[********************  42%%                      ]  337 of 803 completed"
     ]
    },
    {
     "name": "stdout",
     "output_type": "stream",
     "text": [
      "$AV: possibly delisted; No price data found  (1d 2000-01-01 -> 2023-12-31)\n"
     ]
    },
    {
     "name": "stderr",
     "output_type": "stream",
     "text": [
      "[********************* 43%%                      ]  346 of 803 completed"
     ]
    },
    {
     "name": "stdout",
     "output_type": "stream",
     "text": [
      "$GGP: possibly delisted; No price data found  (1d 2000-01-01 -> 2023-12-31)\n",
      "$PGN: possibly delisted; No price data found  (1d 2000-01-01 -> 2023-12-31)\n"
     ]
    },
    {
     "name": "stderr",
     "output_type": "stream",
     "text": [
      "[**********************50%%                      ]  398 of 803 completed"
     ]
    },
    {
     "name": "stdout",
     "output_type": "stream",
     "text": [
      "$KRFT: possibly delisted; No price data found  (1d 2000-01-01 -> 2023-12-31)\n"
     ]
    },
    {
     "name": "stderr",
     "output_type": "stream",
     "text": [
      "[**********************52%%                      ]  417 of 803 completed"
     ]
    },
    {
     "name": "stdout",
     "output_type": "stream",
     "text": [
      "$FRE: possibly delisted; No price data found  (1d 2000-01-01 -> 2023-12-31)\n",
      "$CVC: possibly delisted; No price data found  (1d 2000-01-01 -> 2023-12-31)\n"
     ]
    },
    {
     "name": "stderr",
     "output_type": "stream",
     "text": [
      "[**********************53%%                      ]  428 of 803 completed"
     ]
    },
    {
     "name": "stdout",
     "output_type": "stream",
     "text": [
      "$Q: possibly delisted; No price data found  (1d 2000-01-01 -> 2023-12-31)\n"
     ]
    },
    {
     "name": "stderr",
     "output_type": "stream",
     "text": [
      "[**********************55%%                      ]  443 of 803 completed"
     ]
    },
    {
     "name": "stdout",
     "output_type": "stream",
     "text": [
      "$TWC: possibly delisted; No price data found  (1d 2000-01-01 -> 2023-12-31)\n"
     ]
    },
    {
     "name": "stderr",
     "output_type": "stream",
     "text": [
      "[**********************56%%*                     ]  450 of 803 completed"
     ]
    },
    {
     "name": "stdout",
     "output_type": "stream",
     "text": [
      "$MWW: possibly delisted; No price data found  (1d 2000-01-01 -> 2023-12-31)\n"
     ]
    },
    {
     "name": "stderr",
     "output_type": "stream",
     "text": [
      "[**********************57%%*                     ]  460 of 803 completed"
     ]
    },
    {
     "name": "stdout",
     "output_type": "stream",
     "text": [
      "$HSP: possibly delisted; No price data found  (1d 2000-01-01 -> 2023-12-31)\n"
     ]
    },
    {
     "name": "stderr",
     "output_type": "stream",
     "text": [
      "[**********************61%%***                   ]  487 of 803 completed"
     ]
    },
    {
     "name": "stdout",
     "output_type": "stream",
     "text": [
      "$LVLT: possibly delisted; No price data found  (1d 2000-01-01 -> 2023-12-31)\n"
     ]
    },
    {
     "name": "stderr",
     "output_type": "stream",
     "text": [
      "[**********************63%%****                  ]  503 of 803 completed"
     ]
    },
    {
     "name": "stdout",
     "output_type": "stream",
     "text": [
      "$GENZ: possibly delisted; No price data found  (1d 2000-01-01 -> 2023-12-31)\n"
     ]
    },
    {
     "name": "stderr",
     "output_type": "stream",
     "text": [
      "[**********************67%%******                ]  534 of 803 completed"
     ]
    },
    {
     "name": "stdout",
     "output_type": "stream",
     "text": [
      "$LXK: possibly delisted; No price data found  (1d 2000-01-01 -> 2023-12-31)\n"
     ]
    },
    {
     "name": "stderr",
     "output_type": "stream",
     "text": [
      "[**********************68%%*******               ]  549 of 803 completed"
     ]
    },
    {
     "name": "stdout",
     "output_type": "stream",
     "text": [
      "$CPGX: possibly delisted; No price data found  (1d 2000-01-01 -> 2023-12-31)\n"
     ]
    },
    {
     "name": "stderr",
     "output_type": "stream",
     "text": [
      "[**********************69%%*******               ]  556 of 803 completed"
     ]
    },
    {
     "name": "stdout",
     "output_type": "stream",
     "text": [
      "$FNM: possibly delisted; No price data found  (1d 2000-01-01 -> 2023-12-31)\n"
     ]
    },
    {
     "name": "stderr",
     "output_type": "stream",
     "text": [
      "[**********************73%%*********             ]  587 of 803 completed"
     ]
    },
    {
     "name": "stdout",
     "output_type": "stream",
     "text": [
      "$BXLT: possibly delisted; No price data found  (1d 2000-01-01 -> 2023-12-31)\n"
     ]
    },
    {
     "name": "stderr",
     "output_type": "stream",
     "text": [
      "[**********************78%%***********           ]  626 of 803 completed"
     ]
    },
    {
     "name": "stdout",
     "output_type": "stream",
     "text": [
      "$HCBK: possibly delisted; No price data found  (1d 2000-01-01 -> 2023-12-31)\n"
     ]
    },
    {
     "name": "stderr",
     "output_type": "stream",
     "text": [
      "[**********************80%%************          ]  644 of 803 completed"
     ]
    },
    {
     "name": "stdout",
     "output_type": "stream",
     "text": [
      "$PCS: possibly delisted; No price data found  (1d 2000-01-01 -> 2023-12-31)\n",
      "$LEH: possibly delisted; No price data found  (1d 2000-01-01 -> 2023-12-31)\n"
     ]
    },
    {
     "name": "stderr",
     "output_type": "stream",
     "text": [
      "[**********************81%%*************         ]  650 of 803 completed"
     ]
    },
    {
     "name": "stdout",
     "output_type": "stream",
     "text": [
      "$BRCM: possibly delisted; No price data found  (1d 2000-01-01 -> 2023-12-31)\n"
     ]
    },
    {
     "name": "stderr",
     "output_type": "stream",
     "text": [
      "[**********************84%%**************        ]  673 of 803 completed"
     ]
    },
    {
     "name": "stdout",
     "output_type": "stream",
     "text": [
      "$DJ: possibly delisted; No price data found  (1d 2000-01-01 -> 2023-12-31)\n",
      "$QTRN: possibly delisted; No price data found  (1d 2000-01-01 -> 2023-12-31)\n"
     ]
    },
    {
     "name": "stderr",
     "output_type": "stream",
     "text": [
      "[**********************85%%***************       ]  684 of 803 completed"
     ]
    },
    {
     "name": "stdout",
     "output_type": "stream",
     "text": [
      "$WYN: possibly delisted; No price data found  (1d 2000-01-01 -> 2023-12-31)\n",
      "$SPLS: possibly delisted; No price data found  (1d 2000-01-01 -> 2023-12-31)\n"
     ]
    },
    {
     "name": "stderr",
     "output_type": "stream",
     "text": [
      "[**********************87%%****************      ]  697 of 803 completed"
     ]
    },
    {
     "name": "stdout",
     "output_type": "stream",
     "text": [
      "$SIAL: possibly delisted; No price data found  (1d 2000-01-01 -> 2023-12-31)\n"
     ]
    },
    {
     "name": "stderr",
     "output_type": "stream",
     "text": [
      "[**********************89%%*****************     ]  713 of 803 completed"
     ]
    },
    {
     "name": "stdout",
     "output_type": "stream",
     "text": [
      "$BCR: possibly delisted; No price data found  (1d 2000-01-01 -> 2023-12-31)\n",
      "$DPS: possibly delisted; No price data found  (1d 2000-01-01 -> 2023-12-31)\n"
     ]
    },
    {
     "name": "stderr",
     "output_type": "stream",
     "text": [
      "[**********************90%%*****************     ]  726 of 803 completed"
     ]
    },
    {
     "name": "stdout",
     "output_type": "stream",
     "text": [
      "$CEPH: possibly delisted; No price data found  (1d 2000-01-01 -> 2023-12-31)\n",
      "$CAM: possibly delisted; No price data found  (1d 2000-01-01 -> 2023-12-31)\n"
     ]
    },
    {
     "name": "stderr",
     "output_type": "stream",
     "text": [
      "[**********************91%%******************    ]  734 of 803 completed"
     ]
    },
    {
     "name": "stdout",
     "output_type": "stream",
     "text": [
      "$BJS: possibly delisted; No price data found  (1d 2000-01-01 -> 2023-12-31)\n"
     ]
    },
    {
     "name": "stderr",
     "output_type": "stream",
     "text": [
      "[**********************93%%*******************   ]  748 of 803 completed"
     ]
    },
    {
     "name": "stdout",
     "output_type": "stream",
     "text": [
      "$XTO: possibly delisted; No price data found  (1d 2000-01-01 -> 2023-12-31)\n"
     ]
    },
    {
     "name": "stderr",
     "output_type": "stream",
     "text": [
      "[**********************96%%********************  ]  770 of 803 completed"
     ]
    },
    {
     "name": "stdout",
     "output_type": "stream",
     "text": [
      "$JNS: possibly delisted; No price data found  (1d 2000-01-01 -> 2023-12-31)\n"
     ]
    },
    {
     "name": "stderr",
     "output_type": "stream",
     "text": [
      "[*********************100%%**********************]  803 of 803 completed\n",
      "\n",
      "127 Failed downloads:\n",
      "['WFM', 'APOL', 'ACAS', 'STJ', 'TE', 'MIL', 'CFN', 'JOY', 'LO', 'SNDK', 'GMCR', 'JDSU', 'MJN', 'NOVL', 'RAI', 'ARG', 'TYC', 'EK', 'BF.B', 'LLTC', 'CMCSK', 'FDO', 'SWY', 'NVLS', 'AV', 'GGP', 'PGN', 'KRFT', 'FRE', 'CVC', 'Q', 'TWC', 'MWW', 'HSP', 'LVLT', 'GENZ', 'LXK', 'CPGX', 'FNM', 'BXLT', 'HCBK', 'PCS', 'LEH', 'BRCM', 'DJ', 'QTRN', 'WYN', 'SPLS', 'SIAL', 'BCR', 'DPS', 'CEPH', 'CAM', 'BJS', 'XTO', 'JNS']: YFPricesMissingError('$%ticker%: possibly delisted; No price data found  (1d 2000-01-01 -> 2023-12-31)')\n",
      "['DTV', 'MXIM', 'KSU', 'XEC', 'TIF', 'CXO', 'FBHS', 'APC', 'ARNC', 'TWTR', 'DRE', 'ESV', 'TSG', 'RTN', 'ALXN', 'CTXS', 'XLNX', 'AVP', 'LLL', 'PBCT', 'MNK', 'ADS', 'NLSN', 'RDC', 'RRD', 'NCR', 'TSS', 'CELG', 'FRX', 'DF', 'JCP', 'XL', 'FTR', 'INFO', 'HFC', 'DWDP', 'FII', 'FDC', 'QEP', 'DISH', 'WPX', 'RHT', 'AKS', 'WIN', 'DNR', 'YHOO', 'NBL', 'VAR', 'FRC', 'ETFC', 'BRK.B', 'CERN', 'AGN', 'MON', 'FLIR', 'LM', 'ATVI', 'LSI', 'BBBY', 'WCG', 'VIAB']: YFTzMissingError('$%ticker%: possibly delisted; No timezone found')\n",
      "['LIFE', 'ABMD', 'PXD']: YFChartError('%ticker%: No data found, symbol may be delisted')\n",
      "['SOLV', 'GEV', 'SHLD', 'SW']: YFChartError(\"%ticker%: Data doesn't exist for startDate = 946702800, endDate = 1703998800\")\n",
      "['NYX', 'SIVB', 'ENDP']: YFInvalidPeriodError(\"%ticker%: Period 'max' is invalid, must be one of ['1d', '5d']\")\n"
     ]
    }
   ],
   "source": [
    "snp_stocks_data = download_data(snp_symbols, start_date, end_date)"
   ]
  },
  {
   "cell_type": "code",
   "execution_count": 9,
   "metadata": {},
   "outputs": [],
   "source": [
    "snp_stocks_data = clean_data(snp_stocks_data, date_range)\n",
    "# snp_stocks_data = clean_data(snp_stocks_data, date_range)\n",
    "# snp_stocks_data = clean_data(snp_stocks_data, date_range)"
   ]
  },
  {
   "cell_type": "code",
   "execution_count": 10,
   "metadata": {},
   "outputs": [],
   "source": [
    "symbols = list(snp_stocks_data.columns)"
   ]
  },
  {
   "cell_type": "code",
   "execution_count": 47,
   "metadata": {},
   "outputs": [],
   "source": [
    "period = 'W'\n",
    "time = 'training'"
   ]
  },
  {
   "cell_type": "markdown",
   "metadata": {},
   "source": [
    "# Calculations"
   ]
  },
  {
   "cell_type": "code",
   "execution_count": 48,
   "metadata": {},
   "outputs": [],
   "source": [
    "returns_df = calculate_returns(snp_stocks_data, rebalance=period)"
   ]
  },
  {
   "cell_type": "code",
   "execution_count": 49,
   "metadata": {},
   "outputs": [],
   "source": [
    "# if time == 'training':\n",
    "#     returns_df = returns_df.loc[:, (returns_df.columns > '2005')& (returns_df.columns < '2019')]\n",
    "# elif time == 'testing':\n",
    "#     returns_df = returns_df.loc[:,returns_df.columns > '2019']"
   ]
  },
  {
   "cell_type": "code",
   "execution_count": 50,
   "metadata": {},
   "outputs": [],
   "source": [
    "'''\n",
    "A dictionary to store the return%. \n",
    "The strategy name is the key and the return-df is value\n",
    "'''\n",
    "strategy_returns = {}\n",
    "strategy_returns_ls = {}"
   ]
  },
  {
   "cell_type": "markdown",
   "metadata": {},
   "source": [
    "## Momentum Strategy"
   ]
  },
  {
   "cell_type": "markdown",
   "metadata": {},
   "source": [
    "### Momentum Long Only"
   ]
  },
  {
   "cell_type": "code",
   "execution_count": 51,
   "metadata": {},
   "outputs": [],
   "source": [
    "months = [12]\n",
    "pct = [50]"
   ]
  },
  {
   "cell_type": "code",
   "execution_count": 52,
   "metadata": {},
   "outputs": [],
   "source": [
    "\n",
    "# for m in months:\n",
    "#     momentum = calculate_m_momentum(snp_stocks_data, m)\n",
    "     \n",
    "#     for p in pct:\n",
    "#         strategy = f'{m}_momentum_{p}'        \n",
    "#         momentum_long(snp_stocks_data, momentum, returns_df, p,  strategy= strategy, strategy_returns=strategy_returns)"
   ]
  },
  {
   "cell_type": "code",
   "execution_count": 53,
   "metadata": {},
   "outputs": [],
   "source": [
    "for m in months:\n",
    "    momentum = calculate_m_momentum(snp_stocks_data, m, resample=period)\n",
    "    # if time == 'training':\n",
    "    #     momentum = momentum.loc[:, (momentum.columns > '2005') & (momentum.columns < '2019')]\n",
    "    # if time == 'testing':\n",
    "    #     momentum = momentum.loc[:,momentum.columns > '2019']\n",
    "    for p in pct:\n",
    "        strategy = f'{m}_momentum_ls_{p}'\n",
    "        momentum_long_sort(snp_stocks_data, momentum, returns_df, p, p, strategy, strategy_returns=strategy_returns_ls)\n",
    "        \n",
    "strategy_returns_ls['12_momentum_ls_50'].rename({0:'12_momentum_ls_50'}, axis=1, inplace=True)"
   ]
  },
  {
   "cell_type": "markdown",
   "metadata": {},
   "source": [
    "#### 12-1 momentum"
   ]
  },
  {
   "cell_type": "code",
   "execution_count": 54,
   "metadata": {},
   "outputs": [],
   "source": [
    "# # Calculate 12-1 momentum for each stock\n",
    "# momentum_df = calculate_12_1_momentum(snp_stocks_data)\n",
    "# for p_top in pct:\n",
    "#     momentum_12_1(snp_stocks_data, momentum_df, returns_df, p_top, strategy_returns=strategy_returns)"
   ]
  },
  {
   "cell_type": "code",
   "execution_count": 55,
   "metadata": {},
   "outputs": [],
   "source": [
    "momentum_df = calculate_12_1_momentum(snp_stocks_data, resample=period)\n",
    "# if time == 'training':\n",
    "#     returns_df = returns_df.loc[:, (returns_df.columns > '2005')& (returns_df.columns < '2019')]\n",
    "# elif time == 'testing':\n",
    "#     momentum_df = momentum_df.loc[:, momentum_df.columns > '2019']\n",
    "\n",
    "for p_top in pct:\n",
    "    momentum_12_1_ls(snp_stocks_data, momentum_df, returns_df, p_top, strategy_returns=strategy_returns_ls)\n",
    "\n",
    "strategy_returns_ls['12_1_momentum_ls_50'].rename({0:'12_1_momentum_ls_50'}, axis=1, inplace=True)"
   ]
  },
  {
   "cell_type": "markdown",
   "metadata": {},
   "source": [
    "### Reversion Strategy"
   ]
  },
  {
   "cell_type": "code",
   "execution_count": 56,
   "metadata": {},
   "outputs": [],
   "source": [
    "# momentum_reversion = calculate_m_momentum(snp_stocks_data, 1)\n",
    "# for p in pct:\n",
    "#     strategy = f'{m}-reversal_{p}'\n",
    "#     reversion_long(snp_stocks_data, momentum_reversion, returns_df, p,  strategy=strategy, strategy_returns=strategy_returns)\n",
    "        "
   ]
  },
  {
   "cell_type": "code",
   "execution_count": 57,
   "metadata": {},
   "outputs": [],
   "source": [
    "momentum_rev = calculate_m_momentum(snp_stocks_data, 1, resample = period)\n",
    "# if time == 'training':\n",
    "#     momentum_rev = momentum_rev.loc[:, (momentum_rev.columns>'2005') & (momentum_rev.columns<'2019')]\n",
    "# elif time == 'testing':\n",
    "#     momentum_rev = momentum_rev.loc[:, momentum_rev.columns>'2019']"
   ]
  },
  {
   "cell_type": "code",
   "execution_count": 58,
   "metadata": {},
   "outputs": [],
   "source": [
    "for p in pct:\n",
    "        strategy = f'{m}-reversal_ls_{p}'\n",
    "        reversion_long_sort(snp_stocks_data, momentum_rev, returns_df, p, p, strategy=strategy, strategy_returns=strategy_returns_ls)\n",
    "            "
   ]
  },
  {
   "cell_type": "markdown",
   "metadata": {},
   "source": [
    "### Seasonality"
   ]
  },
  {
   "cell_type": "markdown",
   "metadata": {},
   "source": [
    "1-year check"
   ]
  },
  {
   "cell_type": "code",
   "execution_count": 59,
   "metadata": {},
   "outputs": [],
   "source": [
    "# seasonality(snp_stocks_data, returns_df, strategy='1_yr_seasonality', strategy_returns=strategy_returns)"
   ]
  },
  {
   "cell_type": "code",
   "execution_count": 60,
   "metadata": {},
   "outputs": [],
   "source": [
    "# seasonality_ls(snp_stocks_data, returns_df, strategy='1_yr_seasonality_ls', strategy_returns=strategy_returns_ls)"
   ]
  },
  {
   "cell_type": "markdown",
   "metadata": {},
   "source": [
    "3-years seasonality"
   ]
  },
  {
   "cell_type": "code",
   "execution_count": 61,
   "metadata": {},
   "outputs": [],
   "source": [
    "# times = [2]\n",
    "# for m in times:\n",
    "#     strategy = f'3_yr_seasonality_{m}'\n",
    "#     seasonality(snp_stocks_data, returns_df, y=3, m = m, n=m, strategy= strategy, strategy_returns=strategy_returns)"
   ]
  },
  {
   "cell_type": "code",
   "execution_count": 62,
   "metadata": {},
   "outputs": [],
   "source": [
    "strategy = f'3_yr_seasonality_2_ls'\n",
    "seasonality_ls(stocks_data=snp_stocks_data, return_df=returns_df, strategy_returns=strategy_returns_ls, rebalance=period, y=3, m = 2, n=2, strategy= strategy, )"
   ]
  },
  {
   "cell_type": "markdown",
   "metadata": {},
   "source": [
    "5-years seasonality"
   ]
  },
  {
   "cell_type": "code",
   "execution_count": 63,
   "metadata": {},
   "outputs": [],
   "source": [
    "# times = [3]\n",
    "# for m in times:\n",
    "#     strategy = f'5_yr_seasonality_{m}'\n",
    "#     seasonality(snp_stocks_data, returns_df, strategy= strategy, strategy_returns=strategy_returns_ls,  y=5, m = m, n=m,)"
   ]
  },
  {
   "cell_type": "code",
   "execution_count": 64,
   "metadata": {},
   "outputs": [],
   "source": [
    "times = [3]\n",
    "for m in times:\n",
    "    strategy = f'5_yr_seasonality_{m}_ls'\n",
    "    seasonality_ls(snp_stocks_data, returns_df, strategy_returns=strategy_returns_ls, rebalance=period, y=5, m = m, n=m, strategy= strategy, )"
   ]
  },
  {
   "cell_type": "markdown",
   "metadata": {},
   "source": [
    "### Value"
   ]
  },
  {
   "cell_type": "code",
   "execution_count": 65,
   "metadata": {},
   "outputs": [],
   "source": [
    "# strategy = 'Value < 25'\n",
    "# price_strategy(snp_stocks_data, returns_df, 25, strategy, strategy_returns=strategy_returns)"
   ]
  },
  {
   "cell_type": "code",
   "execution_count": 66,
   "metadata": {},
   "outputs": [],
   "source": [
    "strategy = 'Value_15_85'\n",
    "price_strategy_ls(snp_stocks_data, returns_df, 85, 15, strategy, strategy_returns=strategy_returns_ls)"
   ]
  },
  {
   "cell_type": "code",
   "execution_count": 67,
   "metadata": {},
   "outputs": [],
   "source": [
    "strategy = 'Value_25_75'\n",
    "price_strategy_ls(snp_stocks_data, returns_df, 75, 25, strategy, strategy_returns=strategy_returns_ls)"
   ]
  },
  {
   "cell_type": "markdown",
   "metadata": {},
   "source": [
    "### Volatility"
   ]
  },
  {
   "cell_type": "code",
   "execution_count": 68,
   "metadata": {},
   "outputs": [],
   "source": [
    "def calculate_vol(return_data, y=1):\n",
    "    volatility = return_data.T.rolling(window=52*y).std()\n",
    "    volatility = volatility * np.sqrt(52)\n",
    "    \n",
    "    return volatility.T.dropna(axis=1, how='all')"
   ]
  },
  {
   "cell_type": "code",
   "execution_count": 69,
   "metadata": {},
   "outputs": [],
   "source": [
    "vol_df = calculate_vol(returns_df)\n",
    "top = top_p_percentage_stocks(vol_df, 33)\n",
    "btm = bottom_p_percentage_stocks(vol_df, 33)\n",
    "ret = portfolio_return(returns_df, top, btm)"
   ]
  },
  {
   "cell_type": "code",
   "execution_count": 70,
   "metadata": {},
   "outputs": [],
   "source": [
    "vol_df = calculate_vol(returns_df)\n",
    "top = top_p_percentage_stocks(vol_df, 50)\n",
    "btm = bottom_p_percentage_stocks(vol_df, 50)\n",
    "ret = portfolio_return(returns_df, top, btm)\n",
    "strategy_returns_ls['1_year_vol_ls_50']  = pd.DataFrame.from_dict(dict(sorted(ret.items())), orient='index', columns=['1_year_vol_ls_50'])"
   ]
  },
  {
   "cell_type": "code",
   "execution_count": 71,
   "metadata": {},
   "outputs": [],
   "source": [
    "# for p in pct:\n",
    "#     # strategy = f'1_year_vol_{p}'\n",
    "#     volatility_strategy(snp_stocks_data, returns_df, p=p, strategy=strategy, strategy_returns=strategy_returns)"
   ]
  },
  {
   "cell_type": "code",
   "execution_count": 72,
   "metadata": {},
   "outputs": [],
   "source": [
    "# for p in pct:\n",
    "#     strategy = f'1_year_vol_ls_{p}'\n",
    "#     # volatility_strategy_ls(snp_stocks_data, returns_df, p=p, strategy=strategy, strategy_returns=strategy_returns_ls)"
   ]
  },
  {
   "cell_type": "code",
   "execution_count": 73,
   "metadata": {},
   "outputs": [
    {
     "data": {
      "text/html": [
       "<div>\n",
       "<style scoped>\n",
       "    .dataframe tbody tr th:only-of-type {\n",
       "        vertical-align: middle;\n",
       "    }\n",
       "\n",
       "    .dataframe tbody tr th {\n",
       "        vertical-align: top;\n",
       "    }\n",
       "\n",
       "    .dataframe thead th {\n",
       "        text-align: right;\n",
       "    }\n",
       "</style>\n",
       "<table border=\"1\" class=\"dataframe\">\n",
       "  <thead>\n",
       "    <tr style=\"text-align: right;\">\n",
       "      <th></th>\n",
       "      <th>1_year_vol_ls_50</th>\n",
       "    </tr>\n",
       "  </thead>\n",
       "  <tbody>\n",
       "    <tr>\n",
       "      <th>2005-01-02</th>\n",
       "      <td>-0.645010</td>\n",
       "    </tr>\n",
       "    <tr>\n",
       "      <th>2005-01-09</th>\n",
       "      <td>0.359275</td>\n",
       "    </tr>\n",
       "    <tr>\n",
       "      <th>2005-01-16</th>\n",
       "      <td>-0.285239</td>\n",
       "    </tr>\n",
       "    <tr>\n",
       "      <th>2005-01-23</th>\n",
       "      <td>0.211997</td>\n",
       "    </tr>\n",
       "    <tr>\n",
       "      <th>2005-01-30</th>\n",
       "      <td>0.467605</td>\n",
       "    </tr>\n",
       "    <tr>\n",
       "      <th>...</th>\n",
       "      <td>...</td>\n",
       "    </tr>\n",
       "    <tr>\n",
       "      <th>2023-11-26</th>\n",
       "      <td>1.336492</td>\n",
       "    </tr>\n",
       "    <tr>\n",
       "      <th>2023-12-03</th>\n",
       "      <td>0.341600</td>\n",
       "    </tr>\n",
       "    <tr>\n",
       "      <th>2023-12-10</th>\n",
       "      <td>2.200267</td>\n",
       "    </tr>\n",
       "    <tr>\n",
       "      <th>2023-12-17</th>\n",
       "      <td>0.569723</td>\n",
       "    </tr>\n",
       "    <tr>\n",
       "      <th>2023-12-24</th>\n",
       "      <td>-0.210804</td>\n",
       "    </tr>\n",
       "  </tbody>\n",
       "</table>\n",
       "<p>991 rows × 1 columns</p>\n",
       "</div>"
      ],
      "text/plain": [
       "            1_year_vol_ls_50\n",
       "2005-01-02         -0.645010\n",
       "2005-01-09          0.359275\n",
       "2005-01-16         -0.285239\n",
       "2005-01-23          0.211997\n",
       "2005-01-30          0.467605\n",
       "...                      ...\n",
       "2023-11-26          1.336492\n",
       "2023-12-03          0.341600\n",
       "2023-12-10          2.200267\n",
       "2023-12-17          0.569723\n",
       "2023-12-24         -0.210804\n",
       "\n",
       "[991 rows x 1 columns]"
      ]
     },
     "execution_count": 73,
     "metadata": {},
     "output_type": "execute_result"
    }
   ],
   "source": [
    "strategy_returns_ls['1_year_vol_ls_50'][strategy_returns_ls['1_year_vol_ls_50'].index > '2005']"
   ]
  },
  {
   "cell_type": "markdown",
   "metadata": {},
   "source": [
    "# Metrices"
   ]
  },
  {
   "cell_type": "code",
   "execution_count": 74,
   "metadata": {},
   "outputs": [
    {
     "name": "stdout",
     "output_type": "stream",
     "text": [
      "12_momentum_ls_50   -0.41\n",
      "Name: CAGR, dtype: float64\n",
      "12_momentum_ls_50   -0.06\n",
      "Name: Sharpe Ratio, dtype: float64\n",
      "-----------------------------------------------------------\n",
      "12_1_momentum_ls_50    0.34\n",
      "Name: CAGR, dtype: float64\n",
      "12_1_momentum_ls_50    0.1\n",
      "Name: Sharpe Ratio, dtype: float64\n",
      "-----------------------------------------------------------\n",
      "12-reversal_ls_50    2.4\n",
      "Name: CAGR, dtype: float64\n",
      "12-reversal_ls_50    0.61\n",
      "Name: Sharpe Ratio, dtype: float64\n",
      "-----------------------------------------------------------\n",
      "3_yr_seasonality_2_ls    3.37\n",
      "Name: CAGR, dtype: float64\n",
      "3_yr_seasonality_2_ls    0.44\n",
      "Name: Sharpe Ratio, dtype: float64\n",
      "-----------------------------------------------------------\n",
      "5_yr_seasonality_3_ls    1.79\n",
      "Name: CAGR, dtype: float64\n",
      "5_yr_seasonality_3_ls    0.24\n",
      "Name: Sharpe Ratio, dtype: float64\n",
      "-----------------------------------------------------------\n",
      "Value_15_85   -0.11\n",
      "Name: CAGR, dtype: float64\n",
      "Value_15_85    0.08\n",
      "Name: Sharpe Ratio, dtype: float64\n",
      "-----------------------------------------------------------\n",
      "Value_25_75    0.43\n",
      "Name: CAGR, dtype: float64\n",
      "Value_25_75    0.11\n",
      "Name: Sharpe Ratio, dtype: float64\n",
      "-----------------------------------------------------------\n",
      "1_year_vol_ls_50    1.64\n",
      "Name: CAGR, dtype: float64\n",
      "1_year_vol_ls_50    0.31\n",
      "Name: Sharpe Ratio, dtype: float64\n",
      "-----------------------------------------------------------\n"
     ]
    }
   ],
   "source": [
    "for key in strategy_returns_ls.keys():\n",
    "    print(calculate_overall_cagrs(strategy_returns_ls[key], period))\n",
    "    print(calculate_overall_sharpe_ratios(strategy_returns_ls[key], period))\n",
    "    print('-----------------------------------------------------------')"
   ]
  },
  {
   "cell_type": "code",
   "execution_count": 75,
   "metadata": {},
   "outputs": [],
   "source": [
    "def combine_strategy_returns(strategy_returns_dict):\n",
    "    # Create an empty list to store DataFrames\n",
    "    dfs = []\n",
    "    \n",
    "    # Iterate over the dictionary\n",
    "    for strategy, df in strategy_returns_dict.items():\n",
    "        # Rename the column to the strategy name\n",
    "        df = df.rename(columns={df.columns[0]: strategy})\n",
    "        # Append the DataFrame to the list\n",
    "        dfs.append(df)\n",
    "    \n",
    "    # Concatenate all DataFrames in the list along the columns\n",
    "    combined_df = pd.concat(dfs, axis=1)\n",
    "    \n",
    "    return combined_df"
   ]
  },
  {
   "cell_type": "code",
   "execution_count": 76,
   "metadata": {},
   "outputs": [],
   "source": [
    "for strategy, df in strategy_returns_ls.items():\n",
    "    df.columns = [f'{strategy}_{col}' for col in df.columns]\n",
    "\n",
    "# Combine all DataFrames into a single DataFrame\n",
    "df = pd.concat(strategy_returns_ls.values(), axis=1)"
   ]
  },
  {
   "cell_type": "code",
   "execution_count": 77,
   "metadata": {},
   "outputs": [],
   "source": [
    "df = df[df.index > '2006']"
   ]
  },
  {
   "cell_type": "code",
   "execution_count": 82,
   "metadata": {},
   "outputs": [],
   "source": [
    "cagrs = calculate_overall_cagrs(df, 'W')"
   ]
  },
  {
   "cell_type": "code",
   "execution_count": null,
   "metadata": {},
   "outputs": [],
   "source": [
    "sr = calculate_overall_sharpe_ratios(df, 'W')"
   ]
  },
  {
   "cell_type": "markdown",
   "metadata": {},
   "source": [
    "# Plots"
   ]
  },
  {
   "cell_type": "code",
   "execution_count": null,
   "metadata": {},
   "outputs": [],
   "source": [
    "import matplotlib.pyplot as plt\n",
    "import seaborn as sns\n",
    "import pandas as pd\n",
    "\n",
    "def calculate_cumulative_returns(df):\n",
    "    cumulative_returns_df = (1 + df / 100).cumprod() - 1\n",
    "    return cumulative_returns_df\n",
    "\n",
    "def plot_strategy_performance(strategy_df):\n",
    "    # Ensure the index is a datetime index\n",
    "    strategy_df.index = pd.to_datetime(strategy_df.index)\n",
    "    \n",
    "    # Calculate cumulative returns\n",
    "    cumulative_returns_df = calculate_cumulative_returns(strategy_df)\n",
    "    \n",
    "    # Set the plotting style\n",
    "    sns.set(style=\"whitegrid\")\n",
    "\n",
    "    # Create individual plots for each strategy\n",
    "    for strategy in cumulative_returns_df.columns:\n",
    "        plt.figure(figsize=(14, 7))\n",
    "        \n",
    "        # Plot cumulative returns\n",
    "        plt.plot(cumulative_returns_df.index, cumulative_returns_df[strategy], label=f'{strategy} Cumulative Return')\n",
    "        \n",
    "        # Add titles and labels\n",
    "        plt.title(f'Cumulative Returns of {strategy}')\n",
    "        plt.xlabel('Date')\n",
    "        plt.ylabel('Cumulative Return')\n",
    "        plt.legend(loc='best')\n",
    "        \n",
    "        # Show the plot\n",
    "        plt.show()\n",
    "\n",
    "plot_strategy_performance(df)\n"
   ]
  },
  {
   "cell_type": "code",
   "execution_count": null,
   "metadata": {},
   "outputs": [],
   "source": [
    "import plotly.graph_objs as go\n",
    "import plotly.express as px\n",
    "\n",
    "def calculate_cumulative_returns(df):\n",
    "    cumulative_returns_df = (1 + df / 100).cumprod()\n",
    "    return cumulative_returns_df\n",
    "\n",
    "def plot_strategy_performance(strategy_df):\n",
    "    # Ensure the index is a datetime index\n",
    "    strategy_df.index = pd.to_datetime(strategy_df.index)\n",
    "    \n",
    "    # Calculate cumulative returns\n",
    "    cumulative_returns_df = calculate_cumulative_returns(strategy_df)\n",
    "    \n",
    "    # Create the plot\n",
    "    fig = go.Figure()\n",
    "\n",
    "    # Add traces for each strategy\n",
    "    for strategy in cumulative_returns_df.columns:\n",
    "        fig.add_trace(go.Scatter(\n",
    "            x=cumulative_returns_df.index,\n",
    "            y=cumulative_returns_df[strategy],\n",
    "            mode='lines',\n",
    "            name=strategy\n",
    "        ))\n",
    "    \n",
    "    # Add titles and labels\n",
    "    fig.update_layout(\n",
    "        title='Cumulative Returns of Strategies',\n",
    "        xaxis_title='Date',\n",
    "        yaxis_title='Cumulative Return',\n",
    "        legend_title='Strategies'\n",
    "    )\n",
    "\n",
    "    # Show the plot\n",
    "    fig.show()\n",
    "\n",
    "plot_strategy_performance(df)\n"
   ]
  }
 ],
 "metadata": {
  "kernelspec": {
   "display_name": "snp_env",
   "language": "python",
   "name": "python3"
  },
  "language_info": {
   "codemirror_mode": {
    "name": "ipython",
    "version": 3
   },
   "file_extension": ".py",
   "mimetype": "text/x-python",
   "name": "python",
   "nbconvert_exporter": "python",
   "pygments_lexer": "ipython3",
   "version": "3.9.11"
  }
 },
 "nbformat": 4,
 "nbformat_minor": 2
}
